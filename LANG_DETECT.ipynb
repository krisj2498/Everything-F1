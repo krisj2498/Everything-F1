{
 "cells": [
  {
   "cell_type": "code",
   "execution_count": 1,
   "metadata": {},
   "outputs": [
    {
     "name": "stdout",
     "output_type": "stream",
     "text": [
      "Requirement already satisfied: langdetect in c:\\users\\bhagy\\anaconda3\\lib\\site-packages (1.0.7)\n",
      "Requirement already satisfied: six in c:\\users\\bhagy\\anaconda3\\lib\\site-packages (from langdetect) (1.15.0)\n"
     ]
    }
   ],
   "source": [
    "!pip install langdetect\n",
    "from langdetect import detect, detect_langs\n",
    "\n",
    "def language_detection(text, method = \"single\"):\n",
    "    if(method.lower() != \"single\"):\n",
    "        result = detect_langs(text)\n",
    "    else:\n",
    "        result = detect(text)\n",
    "    return result"
   ]
  },
  {
   "cell_type": "code",
   "execution_count": 3,
   "metadata": {},
   "outputs": [],
   "source": [
    "import pandas as pd\n",
    "import numpy as np"
   ]
  },
  {
   "cell_type": "code",
   "execution_count": 22,
   "metadata": {},
   "outputs": [],
   "source": [
    "data=pd.read_excel('C:\\\\Users\\\\bhagy\\\\Desktop\\\\My MS documents\\\\Study Material\\\\Social network analytics\\\\Project\\\\MercedesAMgF1_clean.xlsx')"
   ]
  },
  {
   "cell_type": "code",
   "execution_count": 23,
   "metadata": {},
   "outputs": [],
   "source": [
    "df=pd.DataFrame(data)"
   ]
  },
  {
   "cell_type": "code",
   "execution_count": 24,
   "metadata": {},
   "outputs": [
    {
     "data": {
      "text/html": [
       "<div>\n",
       "<style scoped>\n",
       "    .dataframe tbody tr th:only-of-type {\n",
       "        vertical-align: middle;\n",
       "    }\n",
       "\n",
       "    .dataframe tbody tr th {\n",
       "        vertical-align: top;\n",
       "    }\n",
       "\n",
       "    .dataframe thead th {\n",
       "        text-align: right;\n",
       "    }\n",
       "</style>\n",
       "<table border=\"1\" class=\"dataframe\">\n",
       "  <thead>\n",
       "    <tr style=\"text-align: right;\">\n",
       "      <th></th>\n",
       "      <th>Tweet</th>\n",
       "    </tr>\n",
       "    <tr>\n",
       "      <th>Vertex 1</th>\n",
       "      <th></th>\n",
       "    </tr>\n",
       "  </thead>\n",
       "  <tbody>\n",
       "    <tr>\n",
       "      <th>cashmanjess</th>\n",
       "      <td>We're bringing @lewishamilton to @expo2020duba...</td>\n",
       "    </tr>\n",
       "    <tr>\n",
       "      <th>cashmanjess</th>\n",
       "      <td>We're bringing @lewishamilton to @expo2020duba...</td>\n",
       "    </tr>\n",
       "    <tr>\n",
       "      <th>cashmanjess</th>\n",
       "      <td>We're bringing @lewishamilton to @expo2020duba...</td>\n",
       "    </tr>\n",
       "    <tr>\n",
       "      <th>augustinho2002</th>\n",
       "      <td>Arrives. Sandbags. Leaves. \\n\\n#f1 #formula1 #...</td>\n",
       "    </tr>\n",
       "    <tr>\n",
       "      <th>63violetrussell</th>\n",
       "      <td>daily reminder to enter our giveaway! 🖤 #Merce...</td>\n",
       "    </tr>\n",
       "    <tr>\n",
       "      <th>...</th>\n",
       "      <td>...</td>\n",
       "    </tr>\n",
       "    <tr>\n",
       "      <th>silverarrowsnet</th>\n",
       "      <td>Lewis Hamilton, George Russell, Toto Wolff and...</td>\n",
       "    </tr>\n",
       "    <tr>\n",
       "      <th>silverarrowsnet</th>\n",
       "      <td>We reached 16,000 followers! Thank you for you...</td>\n",
       "    </tr>\n",
       "    <tr>\n",
       "      <th>silverarrowsnet</th>\n",
       "      <td>Mercedes team boss Toto Wolff gave his comment...</td>\n",
       "    </tr>\n",
       "    <tr>\n",
       "      <th>silverarrowsnet</th>\n",
       "      <td>Trackside Engineering director Andrew Shovlin ...</td>\n",
       "    </tr>\n",
       "    <tr>\n",
       "      <th>galiwango_benja</th>\n",
       "      <td>Trackside Engineering director Andrew Shovlin ...</td>\n",
       "    </tr>\n",
       "  </tbody>\n",
       "</table>\n",
       "<p>9116 rows × 1 columns</p>\n",
       "</div>"
      ],
      "text/plain": [
       "                                                             Tweet\n",
       "Vertex 1                                                          \n",
       "cashmanjess      We're bringing @lewishamilton to @expo2020duba...\n",
       "cashmanjess      We're bringing @lewishamilton to @expo2020duba...\n",
       "cashmanjess      We're bringing @lewishamilton to @expo2020duba...\n",
       "augustinho2002   Arrives. Sandbags. Leaves. \\n\\n#f1 #formula1 #...\n",
       "63violetrussell  daily reminder to enter our giveaway! 🖤 #Merce...\n",
       "...                                                            ...\n",
       "silverarrowsnet  Lewis Hamilton, George Russell, Toto Wolff and...\n",
       "silverarrowsnet  We reached 16,000 followers! Thank you for you...\n",
       "silverarrowsnet  Mercedes team boss Toto Wolff gave his comment...\n",
       "silverarrowsnet  Trackside Engineering director Andrew Shovlin ...\n",
       "galiwango_benja  Trackside Engineering director Andrew Shovlin ...\n",
       "\n",
       "[9116 rows x 1 columns]"
      ]
     },
     "execution_count": 24,
     "metadata": {},
     "output_type": "execute_result"
    }
   ],
   "source": [
    "df.set_index('Vertex 1')"
   ]
  },
  {
   "cell_type": "code",
   "execution_count": 25,
   "metadata": {},
   "outputs": [],
   "source": [
    "def det(x):\n",
    "    try:\n",
    "        lang = detect(x)\n",
    "    except:\n",
    "        lang = 'Other'\n",
    "    return lang"
   ]
  },
  {
   "cell_type": "code",
   "execution_count": 26,
   "metadata": {},
   "outputs": [],
   "source": [
    "df['Lang'] = df['Tweet'].apply(det)"
   ]
  },
  {
   "cell_type": "code",
   "execution_count": 27,
   "metadata": {},
   "outputs": [],
   "source": [
    "df1=df[['Vertex 1','Tweet','Lang']][df['Lang']=='en']"
   ]
  },
  {
   "cell_type": "code",
   "execution_count": 28,
   "metadata": {},
   "outputs": [
    {
     "data": {
      "text/html": [
       "<div>\n",
       "<style scoped>\n",
       "    .dataframe tbody tr th:only-of-type {\n",
       "        vertical-align: middle;\n",
       "    }\n",
       "\n",
       "    .dataframe tbody tr th {\n",
       "        vertical-align: top;\n",
       "    }\n",
       "\n",
       "    .dataframe thead th {\n",
       "        text-align: right;\n",
       "    }\n",
       "</style>\n",
       "<table border=\"1\" class=\"dataframe\">\n",
       "  <thead>\n",
       "    <tr style=\"text-align: right;\">\n",
       "      <th></th>\n",
       "      <th>Vertex 1</th>\n",
       "      <th>Tweet</th>\n",
       "      <th>Lang</th>\n",
       "    </tr>\n",
       "  </thead>\n",
       "  <tbody>\n",
       "    <tr>\n",
       "      <th>0</th>\n",
       "      <td>cashmanjess</td>\n",
       "      <td>We're bringing @lewishamilton to @expo2020duba...</td>\n",
       "      <td>en</td>\n",
       "    </tr>\n",
       "    <tr>\n",
       "      <th>1</th>\n",
       "      <td>cashmanjess</td>\n",
       "      <td>We're bringing @lewishamilton to @expo2020duba...</td>\n",
       "      <td>en</td>\n",
       "    </tr>\n",
       "    <tr>\n",
       "      <th>2</th>\n",
       "      <td>cashmanjess</td>\n",
       "      <td>We're bringing @lewishamilton to @expo2020duba...</td>\n",
       "      <td>en</td>\n",
       "    </tr>\n",
       "    <tr>\n",
       "      <th>3</th>\n",
       "      <td>augustinho2002</td>\n",
       "      <td>Arrives. Sandbags. Leaves. \\n\\n#f1 #formula1 #...</td>\n",
       "      <td>en</td>\n",
       "    </tr>\n",
       "    <tr>\n",
       "      <th>4</th>\n",
       "      <td>63violetrussell</td>\n",
       "      <td>daily reminder to enter our giveaway! 🖤 #Merce...</td>\n",
       "      <td>en</td>\n",
       "    </tr>\n",
       "    <tr>\n",
       "      <th>...</th>\n",
       "      <td>...</td>\n",
       "      <td>...</td>\n",
       "      <td>...</td>\n",
       "    </tr>\n",
       "    <tr>\n",
       "      <th>9111</th>\n",
       "      <td>silverarrowsnet</td>\n",
       "      <td>Lewis Hamilton, George Russell, Toto Wolff and...</td>\n",
       "      <td>en</td>\n",
       "    </tr>\n",
       "    <tr>\n",
       "      <th>9112</th>\n",
       "      <td>silverarrowsnet</td>\n",
       "      <td>We reached 16,000 followers! Thank you for you...</td>\n",
       "      <td>en</td>\n",
       "    </tr>\n",
       "    <tr>\n",
       "      <th>9113</th>\n",
       "      <td>silverarrowsnet</td>\n",
       "      <td>Mercedes team boss Toto Wolff gave his comment...</td>\n",
       "      <td>en</td>\n",
       "    </tr>\n",
       "    <tr>\n",
       "      <th>9114</th>\n",
       "      <td>silverarrowsnet</td>\n",
       "      <td>Trackside Engineering director Andrew Shovlin ...</td>\n",
       "      <td>en</td>\n",
       "    </tr>\n",
       "    <tr>\n",
       "      <th>9115</th>\n",
       "      <td>galiwango_benja</td>\n",
       "      <td>Trackside Engineering director Andrew Shovlin ...</td>\n",
       "      <td>en</td>\n",
       "    </tr>\n",
       "  </tbody>\n",
       "</table>\n",
       "<p>7564 rows × 3 columns</p>\n",
       "</div>"
      ],
      "text/plain": [
       "             Vertex 1                                              Tweet Lang\n",
       "0         cashmanjess  We're bringing @lewishamilton to @expo2020duba...   en\n",
       "1         cashmanjess  We're bringing @lewishamilton to @expo2020duba...   en\n",
       "2         cashmanjess  We're bringing @lewishamilton to @expo2020duba...   en\n",
       "3      augustinho2002  Arrives. Sandbags. Leaves. \\n\\n#f1 #formula1 #...   en\n",
       "4     63violetrussell  daily reminder to enter our giveaway! 🖤 #Merce...   en\n",
       "...               ...                                                ...  ...\n",
       "9111  silverarrowsnet  Lewis Hamilton, George Russell, Toto Wolff and...   en\n",
       "9112  silverarrowsnet  We reached 16,000 followers! Thank you for you...   en\n",
       "9113  silverarrowsnet  Mercedes team boss Toto Wolff gave his comment...   en\n",
       "9114  silverarrowsnet  Trackside Engineering director Andrew Shovlin ...   en\n",
       "9115  galiwango_benja  Trackside Engineering director Andrew Shovlin ...   en\n",
       "\n",
       "[7564 rows x 3 columns]"
      ]
     },
     "execution_count": 28,
     "metadata": {},
     "output_type": "execute_result"
    }
   ],
   "source": [
    "df1"
   ]
  },
  {
   "cell_type": "code",
   "execution_count": 29,
   "metadata": {},
   "outputs": [],
   "source": [
    "import csv"
   ]
  },
  {
   "cell_type": "code",
   "execution_count": 30,
   "metadata": {},
   "outputs": [],
   "source": [
    "df1.to_csv('EnglishTweets_MercedesAMgF1.csv')"
   ]
  },
  {
   "cell_type": "code",
   "execution_count": null,
   "metadata": {},
   "outputs": [],
   "source": []
  },
  {
   "cell_type": "code",
   "execution_count": null,
   "metadata": {},
   "outputs": [],
   "source": []
  },
  {
   "cell_type": "code",
   "execution_count": null,
   "metadata": {},
   "outputs": [],
   "source": []
  }
 ],
 "metadata": {
  "kernelspec": {
   "display_name": "Python 3",
   "language": "python",
   "name": "python3"
  },
  "language_info": {
   "codemirror_mode": {
    "name": "ipython",
    "version": 3
   },
   "file_extension": ".py",
   "mimetype": "text/x-python",
   "name": "python",
   "nbconvert_exporter": "python",
   "pygments_lexer": "ipython3",
   "version": "3.8.3"
  }
 },
 "nbformat": 4,
 "nbformat_minor": 4
}
