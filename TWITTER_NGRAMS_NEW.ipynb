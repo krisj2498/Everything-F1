{
 "cells": [
  {
   "cell_type": "code",
   "execution_count": 1,
   "metadata": {},
   "outputs": [
    {
     "name": "stderr",
     "output_type": "stream",
     "text": [
      "Since the GPL-licensed package `unidecode` is not installed, using Python's `unicodedata` package which yields worse results.\n"
     ]
    }
   ],
   "source": [
    "import pandas as pd\n",
    "import ast\n",
    "import string\n",
    "from cleantext import clean\n",
    "import re"
   ]
  },
  {
   "cell_type": "code",
   "execution_count": 10,
   "metadata": {},
   "outputs": [],
   "source": [
    "df = pd.read_csv('F1.csv', index_col = 0)"
   ]
  },
  {
   "cell_type": "code",
   "execution_count": 11,
   "metadata": {},
   "outputs": [
    {
     "data": {
      "text/html": [
       "<div>\n",
       "<style scoped>\n",
       "    .dataframe tbody tr th:only-of-type {\n",
       "        vertical-align: middle;\n",
       "    }\n",
       "\n",
       "    .dataframe tbody tr th {\n",
       "        vertical-align: top;\n",
       "    }\n",
       "\n",
       "    .dataframe thead th {\n",
       "        text-align: right;\n",
       "    }\n",
       "</style>\n",
       "<table border=\"1\" class=\"dataframe\">\n",
       "  <thead>\n",
       "    <tr style=\"text-align: right;\">\n",
       "      <th></th>\n",
       "      <th>Created at</th>\n",
       "      <th>Text</th>\n",
       "    </tr>\n",
       "  </thead>\n",
       "  <tbody>\n",
       "    <tr>\n",
       "      <th>0</th>\n",
       "      <td>2022-05-05 21:05:00</td>\n",
       "      <td>The grid has certainly enjoyed Miami so far! 🌴...</td>\n",
       "    </tr>\n",
       "    <tr>\n",
       "      <th>1</th>\n",
       "      <td>2022-05-05 20:45:00</td>\n",
       "      <td>\"I know you struggle with maths\" 😆\\n\\n@LandoNo...</td>\n",
       "    </tr>\n",
       "    <tr>\n",
       "      <th>2</th>\n",
       "      <td>2022-05-05 20:04:00</td>\n",
       "      <td>Your first glimpse of some action around Miami...</td>\n",
       "    </tr>\n",
       "    <tr>\n",
       "      <th>3</th>\n",
       "      <td>2022-05-05 19:58:24</td>\n",
       "      <td>RT @yukitsunoda07: https://t.co/qk1dNNQRjE</td>\n",
       "    </tr>\n",
       "    <tr>\n",
       "      <th>4</th>\n",
       "      <td>2022-05-05 19:30:00</td>\n",
       "      <td>Checking out the all-new Miami track! 🤩\\n\\n#Mi...</td>\n",
       "    </tr>\n",
       "  </tbody>\n",
       "</table>\n",
       "</div>"
      ],
      "text/plain": [
       "            Created at                                               Text\n",
       "0  2022-05-05 21:05:00  The grid has certainly enjoyed Miami so far! 🌴...\n",
       "1  2022-05-05 20:45:00  \"I know you struggle with maths\" 😆\\n\\n@LandoNo...\n",
       "2  2022-05-05 20:04:00  Your first glimpse of some action around Miami...\n",
       "3  2022-05-05 19:58:24         RT @yukitsunoda07: https://t.co/qk1dNNQRjE\n",
       "4  2022-05-05 19:30:00  Checking out the all-new Miami track! 🤩\\n\\n#Mi..."
      ]
     },
     "execution_count": 11,
     "metadata": {},
     "output_type": "execute_result"
    }
   ],
   "source": [
    "df.head()"
   ]
  },
  {
   "cell_type": "code",
   "execution_count": 12,
   "metadata": {},
   "outputs": [],
   "source": [
    "remove_hyperlinks=[]\n",
    "for text in df['Text']:\n",
    "    x=re.sub('http://\\S+|https://\\S+', '', text)\n",
    "    remove_hyperlinks.append(x)"
   ]
  },
  {
   "cell_type": "code",
   "execution_count": 13,
   "metadata": {},
   "outputs": [
    {
     "data": {
      "text/plain": [
       "'The grid has certainly enjoyed Miami so far! 🌴\\n\\nTake a look at what they have been getting up to 🤩\\n\\n#MiamiGP #F1\\n\\n \"I know you struggle with maths\" 😆\\n\\n@LandoNorris and @GeorgeRussell63 enjoyed some backstage banter before the Miam…  Your first glimpse of some action around Miami 👀\\n\\nThe Safety Car hits the track for its first outing! 🤩\\n\\n#MiamiGP…  RT @yukitsunoda07:  Checking out the all-new Miami track! 🤩\\n\\n#MiamiGP #F1  George is loving the Miami vibe 😎\\n\\nWe sent our cameras backstage at the Miami Opening Party to chat with the driver…  Training with @InterMiamiCF \\nBallin\\' with the @Marlins \\nCourtside at @MiamiHEAT \\n\\nNo matter the sport, the Miami vi…  Here\\'s to another two years 😍\\n\\nFormula 1: Drive To Survive is renewed for Season 5 and 6!\\n\\n#F1 @netflix  Who will be in the mix for victory? 👀\\n\\nGet ready for a special weekend in Miami with our form guide 📊\\n\\n#MiamiGP #F1\\n\\n RT @LandoNorris: Slam dunk 🏀  🏈 Touchdown or three-pointer? 🏀\\n\\nWe asked our drivers which American sport they\\'d love to see up-close and personal…  RT @ZhouGuanyu24: 🏖️🏀🕶 Whasssup MIAMI!  Welcome to Miami 😎\\n\\nHere\\'s your guide to the weekend\\'s action in the Sunshine State!\\n\\n#MiamiGP #F1 @f1miami  Are you ready to rock Miami International Autodrome?! 🎸🤘\\n\\nJump aboard with F1 22 cover star and F1 ambassador…  The energy. The noise. The excitement! 🌴\\n\\nThank you for a welcome like no other, @f1miami 😍\\n\\n#MiamiGP #F1…  Miami, we ❤️ YOU! \\n\\nThank you for an incredible welcome 🙌\\n\\n📸 x @f1miami \\n\\n#MiamiGP #F1  \"Hey Mum I\\'m on TV!\" 😂\\n\\nDon\\'t change, @danielricciardo 😆\\n\\n#MiamiGP #F1  A night to remember in Miami 🥰\\n\\nNow, let\\'s get this weekend STARTED! 🙌\\n\\n#MiamiGP #F1 @f1miami  The Miami HYPE is real! 🤩\\n\\nBig smiles, big energy and a buzzing atmosphere, we are PUMPED! 🙌\\n\\n#MiamiGP #F1 @f1miami  Team @McLarenF1 are PUMPED to be in Miami! 🏖\\n\\nKeep an eye out for @danielricciardo\\'s special themed helmet too 😉…  RT @OconEsteban: I see you Miami 🔥🔥🔥  Lots of love for our American owned @HaasF1Team at home! 💫\\n\\nAnd Guenther, of course 😉\\n\\n#MiamiGP #F1  Miami, that was truly something SPECIAL! 🙌\\n\\n#MiamiGP #F1 @f1miami  WE. ARE. HYPED! 🌴🤩\\n\\n#MiamiGP #F1 @f1miami \\n\\n When one legend, meets another 👊\\n\\n@TomBrady 🤝 @LewisHamilton \\n\\n14 titles in this picture, let that sink in 🤯…  Join us LIVE for the Miami Grand Prix Opening Party 💫\\n\\nWitness our drivers descend on @HardRockStadium to kick off…  RT @LewisHamilton: 14 world titles in a single tweet. @TomBrady #IWCMiami  RT @TomBrady: Some guy with 7 world titles, and Tom Brady @LewisHamilton  Oh Miami, you\\'re a beauty 😍\\n\\n#MiamiGP #F1 @f1miami  Miami is ready for its F1 debut 🤩\\n\\n#MiamiGP #F1  Tom Brady or Lebron James? \\nEast Coast or West Coast? \\n\\nIt\\'s the \\'Would You Rather\\' USA themed edition! 🍿 RT @redbullracing: Let ‘em hit it! ⚾️ Throwing the first pitch at the Miami @Marlins 👊  Pierre Gasly 🤝 Michael Jordan\\n\\nRubbing shoulders with @NBA LEGEND @Jumpman23 🤩\\n\\n📸 x @PierreGASLY \\n\\n#MiamiGP #F1  Mercedes believe they have found solutions ahead of Miami this weekend\\n\\n#MiamiGP #F1\\n\\n F1 drivers love American food 😋\\n\\n#MiamiGP #F1  Catch @kygomusic performing LIVE at the @heineken opening party at @hardrockstadium 20:35 (EDT) on Wednesday 4th Ma…  Get the lowdown on the all-new Miami International Autodrome 🌴\\n\\n#MiamiGP #F1\\n\\n The last American racer in F1... for now 👀\\n\\n@AlexanderRossi is this week\\'s guest on the #F1BeyondTheGrid podcast! 👋…  🗣 \"He’s ready to win for sure\"\\n\\nSuperb 2021.\\nMega start to 2022.\\n\\nZak Brown says it\\'s a case of when, not if, for…  Remembering F1\\'s \\'Racing Dentist\\' - six time Grand Prix winner Tony Brooks\\n\\n   We are saddened to hear of the passing of Tony Brooks\\n\\nF1\\'s last surviving race winner of the 1950s, Brooks was one…  An exciting new role for the #WSeries racer\\n\\n@alicepowell 🤜🤛 @AlpineF1Team \\n\\n#F1 \\n\\n 19 corners, 3 straights, 1 spectacular location 👌 \\n\\nAll the key stats about the new Miami International Autodrome 👀\\n\\n#MiamiGP #F1 _______ Red Sox\\n\\nEasy, right?! 😂\\n\\n#MiamiGP #F1  What a weekend we have in prospect! 🙌\\n\\nThe F1 Nation team are joined by @McLarenF1 boss, Zak Brown, as they look ah…  How much do the grid know about US sports teams?\\n\\nThe results may surprise you! 😄\\n\\n#MiamiGP #F1 Meanwhile, @LewisHamilton, @Max33Verstappen, @alo_oficial and Sebastian Vettel combine for the Champions Edition 💪…  Choose your character(s)... 🎮\\n\\nF1 22 Standard Edition features @Charles_Leclerc, @LandoNorris and @GeorgeRussell63…  Party in the city where the heat is on 😎\\n\\nTake a first look at @f1miami\\'s Miami International Autodrome in F1 22, p…  They\\'re currently P5 in the team standings 👏\\n\\nWhat\\'s driving @alfaromeoorlen\\'s strong start to 2022?…  \"There’s rarely been such fevered anticipation for the arrival of a new race venue\"\\n\\n@wbuxtonofficial explains why…  Lewis drops in for a quick pit stop at @GMA 👍\\n\\n#MiamiGP #F1  \\n\\n Full speed ahead! 🇺🇸 \\n\\n#MiamiGP @redbullracing  Drivin\\' drivin\\' our way to Miami 🌴\\n\\n🏁 @LandoNorris 🤜🤛 @JimmyButler 🏀\\n\\n🏁 @McLarenF1 🤜🤛 @MiamiHEAT 🏀\\n\\n#MiamiGP #F1  Bringing that F1 HEAT to Miami 🔥\\n\\nYou ready, @f1miami? 😏\\n\\n#MiamiGP #F1  The Star-Spangled Honey Badger 💫🎶\\n\\n#MiamiGP #F1 @danielricciardo 🆕 circuit means fresh challenges! \\n\\nHere\\'s what to look out for ahead of the first #MiamiGP ⬇️👀\\n\\n#F1 \\n\\n F1 Drivers ❤️ USA\\n\\nWe\\'re coming for you, @f1miami 🙌\\n\\n#MiamiGP #F1  RT @AlpineF1Team: Bring on those Miami vibes 🏝 We\\'re looking forward to seeing what the new circuit has in store for us! \\n\\nHit that save bu… RT @AlphaTauriF1: Miami Guys! 😎 \\n\\nit\\'s #MiamiGP week 🌴✌️  RT @AstonMartinF1: Welcome to Miami.\\n\\nEverywhere we go we celebrate people, shared passions and values – making our mark on our team, our f… RT @MercedesAMGF1: Hitting up Miami for race week 📞  RT @redbullracing: 𝗪𝗲𝗹𝗰𝗼𝗺𝗲 𝗧𝗼 𝗠𝗶𝗮𝗺𝗶 🇺🇸 Welcome to Race Week 👋 #MiamiGP  RT @ScuderiaFerrari: Shades on and neon lights ready. It’s Race Week in Miami 🦩\\n\\nHow excited are you, #Tifosi!?  \\n\\n#essereFerrari 🔴 #MiamiG… RT @WilliamsRacing: WE\\'RE HEADING TO MIAMI! 😍🇺🇸  Welcome to RACE WEEK 🙌\\n\\nWelcome... TO MIAMI 🌴\\n\\n#MiamiGP #F1  “I’m just myself. The pressure is off. I just have a good time”\\n\\nHe achieved his dream of becoming World Champion a…  RT @McLarenF1: Only one spot where @DanielRicciardo could place his trophy after his first McLaren win. 🧡 \\n\\n#SennaSempre  A unique talent, idolised by millions\\n\\nForever remembered\\n\\n#SennaSempre  Their first of two home races of 2022 didn\\'t quite go their way...\\n\\nBut @ScuderiaFerrari have still started the sea…  Remembering Roland Ratzenberger\\n\\n1960-1994  Mike Krack is keen to hold onto Vettel for 2022 and beyond 👀\\n\\n#F1 \\n\\n Next stop, Miami! 🌴\\n\\nGet pumped up for the #MiamiGP with our official #F1Tracks playlist at the @cryptocom…  Carlos Sainz is \\'hustling\\' to get back on top with his 2022 Ferrari 💪\\n\\n#F1 \\n\\n \"I couldn’t be happier with the driver line-up\" \\n\\nToto Wolff expresses his admiration for both Lewis Hamilton and G…  Oooh, we\\'re liking the look of this @ZhouGuanyu24! 🤩\\n\\n#MiamiGP #F1  This, is poetry in motion 😍\\n\\n#ImolaGP #F1  Williams team boss Jost Capito is working hard to provide Nicholas Latifi with the boost he needs 👊\\n\\n#F1 \\n\\n It\\'s been a brilliant start to @ValtteriBottas\\' 2022 season with @alfaromeoorlen 💪\\n\\n#F1 '"
      ]
     },
     "execution_count": 13,
     "metadata": {},
     "output_type": "execute_result"
    }
   ],
   "source": [
    "string_clean = ' '.join(remove_hyperlinks)\n",
    "string_clean"
   ]
  },
  {
   "cell_type": "code",
   "execution_count": 14,
   "metadata": {},
   "outputs": [],
   "source": [
    "string_clean = string_clean.replace('\\n',\" \")\n",
    "string_clean = string_clean.replace('\\t',\" \")"
   ]
  },
  {
   "cell_type": "code",
   "execution_count": 15,
   "metadata": {},
   "outputs": [],
   "source": [
    "new_string = string_clean.translate(str.maketrans('', '', string.punctuation))"
   ]
  },
  {
   "cell_type": "code",
   "execution_count": 16,
   "metadata": {},
   "outputs": [
    {
     "data": {
      "text/plain": [
       "'The grid has certainly enjoyed Miami so far 🌴  Take a look at what they have been getting up to 🤩  MiamiGP F1   I know you struggle with maths 😆  LandoNorris and GeorgeRussell63 enjoyed some backstage banter before the Miam…  Your first glimpse of some action around Miami 👀  The Safety Car hits the track for its first outing 🤩  MiamiGP…  RT yukitsunoda07  Checking out the allnew Miami track 🤩  MiamiGP F1  George is loving the Miami vibe 😎  We sent our cameras backstage at the Miami Opening Party to chat with the driver…  Training with InterMiamiCF  Ballin with the Marlins  Courtside at MiamiHEAT   No matter the sport the Miami vi…  Heres to another two years 😍  Formula 1 Drive To Survive is renewed for Season 5 and 6  F1 netflix  Who will be in the mix for victory 👀  Get ready for a special weekend in Miami with our form guide 📊  MiamiGP F1   RT LandoNorris Slam dunk 🏀  🏈 Touchdown or threepointer 🏀  We asked our drivers which American sport theyd love to see upclose and personal…  RT ZhouGuanyu24 🏖️🏀🕶 Whasssup MIAMI  Welcome to Miami 😎  Heres your guide to the weekends action in the Sunshine State  MiamiGP F1 f1miami  Are you ready to rock Miami International Autodrome 🎸🤘  Jump aboard with F1 22 cover star and F1 ambassador…  The energy The noise The excitement 🌴  Thank you for a welcome like no other f1miami 😍  MiamiGP F1…  Miami we ❤️ YOU   Thank you for an incredible welcome 🙌  📸 x f1miami   MiamiGP F1  Hey Mum Im on TV 😂  Dont change danielricciardo 😆  MiamiGP F1  A night to remember in Miami 🥰  Now lets get this weekend STARTED 🙌  MiamiGP F1 f1miami  The Miami HYPE is real 🤩  Big smiles big energy and a buzzing atmosphere we are PUMPED 🙌  MiamiGP F1 f1miami  Team McLarenF1 are PUMPED to be in Miami 🏖  Keep an eye out for danielricciardos special themed helmet too 😉…  RT OconEsteban I see you Miami 🔥🔥🔥  Lots of love for our American owned HaasF1Team at home 💫  And Guenther of course 😉  MiamiGP F1  Miami that was truly something SPECIAL 🙌  MiamiGP F1 f1miami  WE ARE HYPED 🌴🤩  MiamiGP F1 f1miami    When one legend meets another 👊  TomBrady 🤝 LewisHamilton   14 titles in this picture let that sink in 🤯…  Join us LIVE for the Miami Grand Prix Opening Party 💫  Witness our drivers descend on HardRockStadium to kick off…  RT LewisHamilton 14 world titles in a single tweet TomBrady IWCMiami  RT TomBrady Some guy with 7 world titles and Tom Brady LewisHamilton  Oh Miami youre a beauty 😍  MiamiGP F1 f1miami  Miami is ready for its F1 debut 🤩  MiamiGP F1  Tom Brady or Lebron James  East Coast or West Coast   Its the Would You Rather USA themed edition 🍿 RT redbullracing Let ‘em hit it ⚾️ Throwing the first pitch at the Miami Marlins 👊  Pierre Gasly 🤝 Michael Jordan  Rubbing shoulders with NBA LEGEND Jumpman23 🤩  📸 x PierreGASLY   MiamiGP F1  Mercedes believe they have found solutions ahead of Miami this weekend  MiamiGP F1   F1 drivers love American food 😋  MiamiGP F1  Catch kygomusic performing LIVE at the heineken opening party at hardrockstadium 2035 EDT on Wednesday 4th Ma…  Get the lowdown on the allnew Miami International Autodrome 🌴  MiamiGP F1   The last American racer in F1 for now 👀  AlexanderRossi is this weeks guest on the F1BeyondTheGrid podcast 👋…  🗣 He’s ready to win for sure  Superb 2021 Mega start to 2022  Zak Brown says its a case of when not if for…  Remembering F1s Racing Dentist  six time Grand Prix winner Tony Brooks     We are saddened to hear of the passing of Tony Brooks  F1s last surviving race winner of the 1950s Brooks was one…  An exciting new role for the WSeries racer  alicepowell 🤜🤛 AlpineF1Team   F1    19 corners 3 straights 1 spectacular location 👌   All the key stats about the new Miami International Autodrome 👀  MiamiGP F1  Red Sox  Easy right 😂  MiamiGP F1  What a weekend we have in prospect 🙌  The F1 Nation team are joined by McLarenF1 boss Zak Brown as they look ah…  How much do the grid know about US sports teams  The results may surprise you 😄  MiamiGP F1 Meanwhile LewisHamilton Max33Verstappen alooficial and Sebastian Vettel combine for the Champions Edition 💪…  Choose your characters 🎮  F1 22 Standard Edition features CharlesLeclerc LandoNorris and GeorgeRussell63…  Party in the city where the heat is on 😎  Take a first look at f1miamis Miami International Autodrome in F1 22 p…  Theyre currently P5 in the team standings 👏  Whats driving alfaromeoorlens strong start to 2022…  There’s rarely been such fevered anticipation for the arrival of a new race venue  wbuxtonofficial explains why…  Lewis drops in for a quick pit stop at GMA 👍  MiamiGP F1     Full speed ahead 🇺🇸   MiamiGP redbullracing  Drivin drivin our way to Miami 🌴  🏁 LandoNorris 🤜🤛 JimmyButler 🏀  🏁 McLarenF1 🤜🤛 MiamiHEAT 🏀  MiamiGP F1  Bringing that F1 HEAT to Miami 🔥  You ready f1miami 😏  MiamiGP F1  The StarSpangled Honey Badger 💫🎶  MiamiGP F1 danielricciardo 🆕 circuit means fresh challenges   Heres what to look out for ahead of the first MiamiGP ⬇️👀  F1    F1 Drivers ❤️ USA  Were coming for you f1miami 🙌  MiamiGP F1  RT AlpineF1Team Bring on those Miami vibes 🏝 Were looking forward to seeing what the new circuit has in store for us   Hit that save bu… RT AlphaTauriF1 Miami Guys 😎   its MiamiGP week 🌴✌️  RT AstonMartinF1 Welcome to Miami  Everywhere we go we celebrate people shared passions and values – making our mark on our team our f… RT MercedesAMGF1 Hitting up Miami for race week 📞  RT redbullracing 𝗪𝗲𝗹𝗰𝗼𝗺𝗲 𝗧𝗼 𝗠𝗶𝗮𝗺𝗶 🇺🇸 Welcome to Race Week 👋 MiamiGP  RT ScuderiaFerrari Shades on and neon lights ready It’s Race Week in Miami 🦩  How excited are you Tifosi    essereFerrari 🔴 MiamiG… RT WilliamsRacing WERE HEADING TO MIAMI 😍🇺🇸  Welcome to RACE WEEK 🙌  Welcome TO MIAMI 🌴  MiamiGP F1  “I’m just myself The pressure is off I just have a good time”  He achieved his dream of becoming World Champion a…  RT McLarenF1 Only one spot where DanielRicciardo could place his trophy after his first McLaren win 🧡   SennaSempre  A unique talent idolised by millions  Forever remembered  SennaSempre  Their first of two home races of 2022 didnt quite go their way  But ScuderiaFerrari have still started the sea…  Remembering Roland Ratzenberger  19601994  Mike Krack is keen to hold onto Vettel for 2022 and beyond 👀  F1    Next stop Miami 🌴  Get pumped up for the MiamiGP with our official F1Tracks playlist at the cryptocom…  Carlos Sainz is hustling to get back on top with his 2022 Ferrari 💪  F1    I couldn’t be happier with the driver lineup   Toto Wolff expresses his admiration for both Lewis Hamilton and G…  Oooh were liking the look of this ZhouGuanyu24 🤩  MiamiGP F1  This is poetry in motion 😍  ImolaGP F1  Williams team boss Jost Capito is working hard to provide Nicholas Latifi with the boost he needs 👊  F1    Its been a brilliant start to ValtteriBottas 2022 season with alfaromeoorlen 💪  F1 '"
      ]
     },
     "execution_count": 16,
     "metadata": {},
     "output_type": "execute_result"
    }
   ],
   "source": [
    "new_string"
   ]
  },
  {
   "cell_type": "code",
   "execution_count": 17,
   "metadata": {},
   "outputs": [],
   "source": [
    "!pip install contractions -q"
   ]
  },
  {
   "cell_type": "code",
   "execution_count": 18,
   "metadata": {},
   "outputs": [],
   "source": [
    "import contractions"
   ]
  },
  {
   "cell_type": "code",
   "execution_count": 19,
   "metadata": {},
   "outputs": [],
   "source": [
    "expanded_words = []   \n",
    "for word in new_string.split():\n",
    "    expanded_words.append(contractions.fix(word))  \n",
    "\n",
    "expanded_text = ' '.join(expanded_words)"
   ]
  },
  {
   "cell_type": "code",
   "execution_count": 20,
   "metadata": {},
   "outputs": [
    {
     "data": {
      "text/plain": [
       "'The grid has certainly enjoyed Miami so far 🌴 Take a look at what they have been getting up to 🤩 MiamiGP F1 I know you struggle with maths 😆 LandoNorris and GeorgeRussell63 enjoyed some backstage banter before the Miam… Your first glimpse of some action around Miami 👀 The Safety Car hits the track for its first outing 🤩 MiamiGP… RT yukitsunoda07 Checking out the allnew Miami track 🤩 MiamiGP F1 George is loving the Miami vibe 😎 We sent our cameras backstage at the Miami Opening Party to chat with the driver… Training with InterMiamiCF Ballin with the Marlins Courtside at MiamiHEAT No matter the sport the Miami vi… Here Is to another two years 😍 Formula 1 Drive To Survive is renewed for Season 5 and 6 F1 netflix Who will be in the mix for victory 👀 Get ready for a special weekend in Miami with our form guide 📊 MiamiGP F1 RT LandoNorris Slam dunk 🏀 🏈 Touchdown or threepointer 🏀 We asked our drivers which American sport they would love to see upclose and personal… RT ZhouGuanyu24 🏖️🏀🕶 Whasssup MIAMI Welcome to Miami 😎 Here Is your guide to the weekends action in the Sunshine State MiamiGP F1 f1miami Are you ready to rock Miami International Autodrome 🎸🤘 Jump aboard with F1 22 cover star and F1 ambassador… The energy The noise The excitement 🌴 Thank you for a welcome like no other f1miami 😍 MiamiGP F1… Miami we ❤️ YOU Thank you for an incredible welcome 🙌 📸 x f1miami MiamiGP F1 Hey Mum I Am on TV 😂 Do Not change danielricciardo 😆 MiamiGP F1 A night to remember in Miami 🥰 Now let us get this weekend STARTED 🙌 MiamiGP F1 f1miami The Miami HYPE is real 🤩 Big smiles big energy and a buzzing atmosphere we are PUMPED 🙌 MiamiGP F1 f1miami Team McLarenF1 are PUMPED to be in Miami 🏖 Keep an eye out for danielricciardos special themed helmet too 😉… RT OconEsteban I see you Miami 🔥🔥🔥 Lots of love for our American owned HaasF1Team at home 💫 And Guenther of course 😉 MiamiGP F1 Miami that was truly something SPECIAL 🙌 MiamiGP F1 f1miami WE ARE HYPED 🌴🤩 MiamiGP F1 f1miami When one legend meets another 👊 TomBrady 🤝 LewisHamilton 14 titles in this picture let that sink in 🤯… Join us LIVE for the Miami Grand Prix Opening Party 💫 Witness our drivers descend on HardRockStadium to kick off… RT LewisHamilton 14 world titles in a single tweet TomBrady IWCMiami RT TomBrady Some guy with 7 world titles and Tom Brady LewisHamilton Oh Miami you are a beauty 😍 MiamiGP F1 f1miami Miami is ready for its F1 debut 🤩 MiamiGP F1 Tom Brady or Lebron James East Coast or West Coast Its the Would You Rather USA themed edition 🍿 RT redbullracing Let ‘them hit it ⚾️ Throwing the first pitch at the Miami Marlins 👊 Pierre Gasly 🤝 Michael Jordan Rubbing shoulders with NBA LEGEND Jumpman23 🤩 📸 x PierreGASLY MiamiGP F1 Mercedes believe they have found solutions ahead of Miami this weekend MiamiGP F1 F1 drivers love American food 😋 MiamiGP F1 Catch kygomusic performing LIVE at the heineken opening party at hardrockstadium 2035 EDT on Wednesday 4th Ma… Get the lowdown on the allnew Miami International Autodrome 🌴 MiamiGP F1 The last American racer in F1 for now 👀 AlexanderRossi is this weeks guest on the F1BeyondTheGrid podcast 👋… 🗣 He is ready to win for sure Superb 2021 Mega start to 2022 Zak Brown says its a case of when not if for… Remembering F1s Racing Dentist six time Grand Prix winner Tony Brooks We are saddened to hear of the passing of Tony Brooks F1s last surviving race winner of the 1950s Brooks was one… An exciting new role for the WSeries racer alicepowell 🤜🤛 AlpineF1Team F1 19 corners 3 straights 1 spectacular location 👌 All the key stats about the new Miami International Autodrome 👀 MiamiGP F1 Red Sox Easy right 😂 MiamiGP F1 What a weekend we have in prospect 🙌 The F1 Nation team are joined by McLarenF1 boss Zak Brown as they look ah… How much do the grid know about US sports teams The results may surprise you 😄 MiamiGP F1 Meanwhile LewisHamilton Max33Verstappen alooficial and Sebastian Vettel combine for the Champions Edition 💪… Choose your characters 🎮 F1 22 Standard Edition features CharlesLeclerc LandoNorris and GeorgeRussell63… Party in the city where the heat is on 😎 Take a first look at f1miamis Miami International Autodrome in F1 22 p… They Are currently P5 in the team standings 👏 What Is driving alfaromeoorlens strong start to 2022… There is rarely been such fevered anticipation for the arrival of a new race venue wbuxtonofficial explains why… Lewis drops in for a quick pit stop at GMA 👍 MiamiGP F1 Full speed ahead 🇺🇸 MiamiGP redbullracing Drivin drivin our way to Miami 🌴 🏁 LandoNorris 🤜🤛 JimmyButler 🏀 🏁 McLarenF1 🤜🤛 MiamiHEAT 🏀 MiamiGP F1 Bringing that F1 HEAT to Miami 🔥 You ready f1miami 😏 MiamiGP F1 The StarSpangled Honey Badger 💫🎶 MiamiGP F1 danielricciardo 🆕 circuit means fresh challenges Here Is what to look out for ahead of the first MiamiGP ⬇️👀 F1 F1 Drivers ❤️ USA Were coming for you f1miami 🙌 MiamiGP F1 RT AlpineF1Team Bring on those Miami vibes 🏝 Were looking forward to seeing what the new circuit has in store for us Hit that save bu… RT AlphaTauriF1 Miami Guys 😎 its MiamiGP week 🌴✌️ RT AstonMartinF1 Welcome to Miami Everywhere we go we celebrate people shared passions and values – making our mark on our team our f… RT MercedesAMGF1 Hitting up Miami for race week 📞 RT redbullracing 𝗪𝗲𝗹𝗰𝗼𝗺𝗲 𝗧𝗼 𝗠𝗶𝗮𝗺𝗶 🇺🇸 Welcome to Race Week 👋 MiamiGP RT ScuderiaFerrari Shades on and neon lights ready It is Race Week in Miami 🦩 How excited are you Tifosi essereFerrari 🔴 MiamiG… RT WilliamsRacing WERE HEADING TO MIAMI 😍🇺🇸 Welcome to RACE WEEK 🙌 Welcome TO MIAMI 🌴 MiamiGP F1 “I am just myself The pressure is off I just have a good time” He achieved his dream of becoming World Champion a… RT McLarenF1 Only one spot where DanielRicciardo could place his trophy after his first McLaren win 🧡 SennaSempre A unique talent idolised by millions Forever remembered SennaSempre Their first of two home races of 2022 did not quite go their way But ScuderiaFerrari have still started the sea… Remembering Roland Ratzenberger 19601994 Mike Krack is keen to hold onto Vettel for 2022 and beyond 👀 F1 Next stop Miami 🌴 Get pumped up for the MiamiGP with our official F1Tracks playlist at the cryptocom… Carlos Sainz is hustling to get back on top with his 2022 Ferrari 💪 F1 I could not be happier with the driver lineup Toto Wolff expresses his admiration for both Lewis Hamilton and G… Oooh were liking the look of this ZhouGuanyu24 🤩 MiamiGP F1 This is poetry in motion 😍 ImolaGP F1 Williams team boss Jost Capito is working hard to provide Nicholas Latifi with the boost he needs 👊 F1 Its been a brilliant start to ValtteriBottas 2022 season with alfaromeoorlen 💪 F1'"
      ]
     },
     "execution_count": 20,
     "metadata": {},
     "output_type": "execute_result"
    }
   ],
   "source": [
    "expanded_text"
   ]
  },
  {
   "cell_type": "code",
   "execution_count": 21,
   "metadata": {},
   "outputs": [
    {
     "name": "stdout",
     "output_type": "stream",
     "text": [
      "Collecting git+https://github.com/LIAAD/yake\n",
      "  Cloning https://github.com/LIAAD/yake to c:\\users\\bhagy\\appdata\\local\\temp\\pip-req-build-2o_9l6ju\n",
      "  Resolved https://github.com/LIAAD/yake to commit 238ae58c5ba39326a96862ee0e9cb817e5958440\n",
      "  Preparing metadata (setup.py): started\n",
      "  Preparing metadata (setup.py): finished with status 'done'\n",
      "Requirement already satisfied: tabulate in c:\\users\\bhagy\\anaconda3\\lib\\site-packages (from yake==0.4.8) (0.8.9)\n",
      "Requirement already satisfied: click>=6.0 in c:\\users\\bhagy\\anaconda3\\lib\\site-packages (from yake==0.4.8) (7.1.2)\n",
      "Requirement already satisfied: numpy in c:\\users\\bhagy\\anaconda3\\lib\\site-packages (from yake==0.4.8) (1.18.5)\n",
      "Requirement already satisfied: segtok in c:\\users\\bhagy\\anaconda3\\lib\\site-packages (from yake==0.4.8) (1.5.11)\n",
      "Requirement already satisfied: networkx in c:\\users\\bhagy\\anaconda3\\lib\\site-packages (from yake==0.4.8) (2.4)\n",
      "Requirement already satisfied: jellyfish in c:\\users\\bhagy\\anaconda3\\lib\\site-packages (from yake==0.4.8) (0.9.0)\n",
      "Requirement already satisfied: decorator>=4.3.0 in c:\\users\\bhagy\\anaconda3\\lib\\site-packages (from networkx->yake==0.4.8) (4.4.2)\n",
      "Requirement already satisfied: regex in c:\\users\\bhagy\\anaconda3\\lib\\site-packages (from segtok->yake==0.4.8) (2020.6.8)\n"
     ]
    },
    {
     "name": "stderr",
     "output_type": "stream",
     "text": [
      "  Running command git clone --filter=blob:none --quiet https://github.com/LIAAD/yake 'C:\\Users\\bhagy\\AppData\\Local\\Temp\\pip-req-build-2o_9l6ju'\n"
     ]
    }
   ],
   "source": [
    "!pip install git+https://github.com/LIAAD/yake"
   ]
  },
  {
   "cell_type": "code",
   "execution_count": 22,
   "metadata": {},
   "outputs": [],
   "source": [
    "list_expanded_text=expanded_text.split(',')"
   ]
  },
  {
   "cell_type": "code",
   "execution_count": 23,
   "metadata": {},
   "outputs": [],
   "source": [
    "##Remove emojis\n",
    "list_no_emojis=[]\n",
    "for text in list_expanded_text:\n",
    "    no_emoji=clean(text, no_emoji=True)\n",
    "    list_no_emojis.append(no_emoji)"
   ]
  },
  {
   "cell_type": "code",
   "execution_count": 24,
   "metadata": {},
   "outputs": [
    {
     "data": {
      "text/plain": [
       "['the grid has certainly enjoyed miami so far take a look at what they have been getting up to miamigp f1 i know you struggle with maths landonorris and georgerussell63 enjoyed some backstage banter before the miam your first glimpse of some action around miami the safety car hits the track for its first outing miamigp rt yukitsunoda07 checking out the allnew miami track miamigp f1 george is loving the miami vibe we sent our cameras backstage at the miami opening party to chat with the driver training with intermiamicf ballin with the marlins courtside at miamiheat no matter the sport the miami vi here is to another two years formula 1 drive to survive is renewed for season 5 and 6 f1 netflix who will be in the mix for victory get ready for a special weekend in miami with our form guide miamigp f1 rt landonorris slam dunk touchdown or threepointer we asked our drivers which american sport they would love to see upclose and personal rt zhouguanyu24 whasssup miami welcome to miami here is your guide to the weekends action in the sunshine state miamigp f1 f1miami are you ready to rock miami international autodrome jump aboard with f1 22 cover star and f1 ambassador the energy the noise the excitement thank you for a welcome like no other f1miami miamigp f1 miami we you thank you for an incredible welcome x f1miami miamigp f1 hey mum i am on tv do not change danielricciardo miamigp f1 a night to remember in miami now let us get this weekend started miamigp f1 f1miami the miami hype is real big smiles big energy and a buzzing atmosphere we are pumped miamigp f1 f1miami team mclarenf1 are pumped to be in miami keep an eye out for danielricciardos special themed helmet too rt oconesteban i see you miami lots of love for our american owned haasf1team at home and guenther of course miamigp f1 miami that was truly something special miamigp f1 f1miami we are hyped miamigp f1 f1miami when one legend meets another tombrady lewishamilton 14 titles in this picture let that sink in join us live for the miami grand prix opening party witness our drivers descend on hardrockstadium to kick off rt lewishamilton 14 world titles in a single tweet tombrady iwcmiami rt tombrady some guy with 7 world titles and tom brady lewishamilton oh miami you are a beauty miamigp f1 f1miami miami is ready for its f1 debut miamigp f1 tom brady or lebron james east coast or west coast its the would you rather usa themed edition rt redbullracing let \\'them hit it throwing the first pitch at the miami marlins pierre gasly michael jordan rubbing shoulders with nba legend jumpman23 x pierregasly miamigp f1 mercedes believe they have found solutions ahead of miami this weekend miamigp f1 f1 drivers love american food miamigp f1 catch kygomusic performing live at the heineken opening party at hardrockstadium 2035 edt on wednesday 4th ma get the lowdown on the allnew miami international autodrome miamigp f1 the last american racer in f1 for now alexanderrossi is this weeks guest on the f1beyondthegrid podcast he is ready to win for sure superb 2021 mega start to 2022 zak brown says its a case of when not if for remembering f1s racing dentist six time grand prix winner tony brooks we are saddened to hear of the passing of tony brooks f1s last surviving race winner of the 1950s brooks was one an exciting new role for the wseries racer alicepowell alpinef1team f1 19 corners 3 straights 1 spectacular location all the key stats about the new miami international autodrome miamigp f1 red sox easy right miamigp f1 what a weekend we have in prospect the f1 nation team are joined by mclarenf1 boss zak brown as they look ah how much do the grid know about us sports teams the results may surprise you miamigp f1 meanwhile lewishamilton max33verstappen alooficial and sebastian vettel combine for the champions edition choose your characters f1 22 standard edition features charlesleclerc landonorris and georgerussell63 party in the city where the heat is on take a first look at f1miamis miami international autodrome in f1 22 p they are currently p5 in the team standings what is driving alfaromeoorlens strong start to 2022 there is rarely been such fevered anticipation for the arrival of a new race venue wbuxtonofficial explains why lewis drops in for a quick pit stop at gma miamigp f1 full speed ahead miamigp redbullracing drivin drivin our way to miami landonorris jimmybutler mclarenf1 miamiheat miamigp f1 bringing that f1 heat to miami you ready f1miami miamigp f1 the starspangled honey badger miamigp f1 danielricciardo circuit means fresh challenges here is what to look out for ahead of the first miamigp f1 f1 drivers usa were coming for you f1miami miamigp f1 rt alpinef1team bring on those miami vibes were looking forward to seeing what the new circuit has in store for us hit that save bu rt alphataurif1 miami guys its miamigp week rt astonmartinf1 welcome to miami everywhere we go we celebrate people shared passions and values making our mark on our team our f rt mercedesamgf1 hitting up miami for race week rt redbullracing welcome to race week miamigp rt scuderiaferrari shades on and neon lights ready it is race week in miami how excited are you tifosi essereferrari miamig rt williamsracing were heading to miami welcome to race week welcome to miami miamigp f1 \"i am just myself the pressure is off i just have a good time\" he achieved his dream of becoming world champion a rt mclarenf1 only one spot where danielricciardo could place his trophy after his first mclaren win sennasempre a unique talent idolised by millions forever remembered sennasempre their first of two home races of 2022 did not quite go their way but scuderiaferrari have still started the sea remembering roland ratzenberger 19601994 mike krack is keen to hold onto vettel for 2022 and beyond f1 next stop miami get pumped up for the miamigp with our official f1tracks playlist at the cryptocom carlos sainz is hustling to get back on top with his 2022 ferrari f1 i could not be happier with the driver lineup toto wolff expresses his admiration for both lewis hamilton and g oooh were liking the look of this zhouguanyu24 miamigp f1 this is poetry in motion imolagp f1 williams team boss jost capito is working hard to provide nicholas latifi with the boost he needs f1 its been a brilliant start to valtteribottas 2022 season with alfaromeoorlen f1']"
      ]
     },
     "execution_count": 24,
     "metadata": {},
     "output_type": "execute_result"
    }
   ],
   "source": [
    "list_no_emojis"
   ]
  },
  {
   "cell_type": "code",
   "execution_count": null,
   "metadata": {},
   "outputs": [],
   "source": []
  },
  {
   "cell_type": "code",
   "execution_count": 27,
   "metadata": {},
   "outputs": [],
   "source": [
    "final_string=','.join(list_no_emojis)"
   ]
  },
  {
   "cell_type": "code",
   "execution_count": 26,
   "metadata": {},
   "outputs": [
    {
     "name": "stderr",
     "output_type": "stream",
     "text": [
      "[nltk_data] Downloading package stopwords to\n",
      "[nltk_data]     C:\\Users\\bhagy\\AppData\\Roaming\\nltk_data...\n",
      "[nltk_data]   Package stopwords is already up-to-date!\n",
      "[nltk_data] Downloading package wordnet to\n",
      "[nltk_data]     C:\\Users\\bhagy\\AppData\\Roaming\\nltk_data...\n",
      "[nltk_data]   Package wordnet is already up-to-date!\n"
     ]
    },
    {
     "data": {
      "text/plain": [
       "True"
      ]
     },
     "execution_count": 26,
     "metadata": {},
     "output_type": "execute_result"
    }
   ],
   "source": [
    "import sys\n",
    "import pandas as pd\n",
    "import nltk, re, string, collections\n",
    "import spacy\n",
    "from wordcloud import WordCloud\n",
    "from nltk.util import ngrams # function for making ngrams\n",
    "\n",
    "import nltk\n",
    "from nltk.corpus import stopwords\n",
    "nltk.download('stopwords')\n",
    "from nltk.tokenize import word_tokenize\n",
    "nltk.download('wordnet')"
   ]
  },
  {
   "cell_type": "code",
   "execution_count": 29,
   "metadata": {},
   "outputs": [
    {
     "name": "stdout",
     "output_type": "stream",
     "text": [
      "[\"grid certainly enjoyed miami far look getting miamigp f1 know struggle math landonorris georgerussell63 enjoyed backstage banter miam first glimpse action around miami safety car hit track first outing miamigp rt yukitsunoda07 checking allnew miami track miamigp f1 george loving miami vibe sent camera backstage miami opening party chat driver training intermiamicf ballin marlin courtside miamiheat matter sport miami another two year formula 1 drive survive renewed season 5 6 f1 netflix mix victory get ready special weekend miami form guide miamigp f1 rt landonorris slam dunk touchdown threepointer asked driver american sport would love see upclose personal rt zhouguanyu24 whasssup miami welcome miami guide weekend action sunshine state miamigp f1 f1miami ready rock miami international autodrome jump aboard f1 22 cover star f1 ambassador energy noise excitement thank welcome like f1miami miamigp f1 miami thank incredible welcome x f1miami miamigp f1 hey mum tv change danielricciardo miamigp f1 night remember miami let u get weekend started miamigp f1 f1miami miami hype real big smile big energy buzzing atmosphere pumped miamigp f1 f1miami team mclarenf1 pumped miami keep eye danielricciardos special themed helmet rt oconesteban see miami lot love american owned haasf1team home guenther course miamigp f1 miami truly something special miamigp f1 f1miami hyped miamigp f1 f1miami legend meet another tombrady lewishamilton 14 title picture let sink join u live miami grand prix opening party witness driver descend hardrockstadium kick rt lewishamilton 14 world title single tweet tombrady iwcmiami rt tombrady guy 7 world title tom brady lewishamilton oh miami beauty miamigp f1 f1miami miami ready f1 debut miamigp f1 tom brady lebron james east coast west coast would rather usa themed edition rt redbullracing let 'them hit throwing first pitch miami marlin pierre gasly michael jordan rubbing shoulder nba legend jumpman23 x pierregasly miamigp f1 mercedes believe found solution ahead miami weekend miamigp f1 f1 driver love american food miamigp f1 catch kygomusic performing live heineken opening party hardrockstadium 2035 edt wednesday 4th get lowdown allnew miami international autodrome miamigp f1 last american racer f1 alexanderrossi week guest f1beyondthegrid podcast ready win sure superb 2021 mega start 2022 zak brown say case remembering f1s racing dentist six time grand prix winner tony brook saddened hear passing tony brook f1s last surviving race winner 1950s brook exciting new role wseries racer alicepowell alpinef1team f1 19 corner 3 straight 1 spectacular location key stats new miami international autodrome miamigp f1 red sox easy right miamigp f1 weekend prospect f1 nation team joined mclarenf1 bos zak brown look ah much grid know u sport team result may surprise miamigp f1 meanwhile lewishamilton max33verstappen alooficial sebastian vettel combine champion edition choose character f1 22 standard edition feature charlesleclerc landonorris georgerussell63 party city heat first look f1miamis miami international autodrome f1 22 p currently p5 team standing driving alfaromeoorlens strong start 2022 rarely fevered anticipation arrival new race venue wbuxtonofficial explains lewis drop quick pit stop gma miamigp f1 full speed ahead miamigp redbullracing drivin drivin way miami landonorris jimmybutler mclarenf1 miamiheat miamigp f1 bringing f1 heat miami ready f1miami miamigp f1 starspangled honey badger miamigp f1 danielricciardo circuit mean fresh challenge look ahead first miamigp f1 f1 driver usa coming f1miami miamigp f1 rt alpinef1team bring miami vibe looking forward seeing new circuit store u hit save rt alphataurif1 miami guy miamigp week rt astonmartinf1 welcome miami everywhere go celebrate people shared passion value making mark team f rt mercedesamgf1 hitting miami race week rt redbullracing welcome race week miamigp rt scuderiaferrari shade neon light ready race week miami excited tifosi essereferrari miamig rt williamsracing heading miami welcome race week welcome miami miamigp f1 `` pressure good time '' achieved dream becoming world champion rt mclarenf1 spot danielricciardo could place trophy first mclaren win sennasempre unique talent idolised million forever remembered sennasempre first two home race 2022 quite go way scuderiaferrari still started remembering roland ratzenberger 19601994 mike krack keen hold onto vettel 2022 beyond f1 next stop miami get pumped miamigp official f1tracks playlist cryptocom carlos sainz hustling get back top 2022 ferrari f1 could happier driver lineup toto wolff express admiration lewis hamilton g oooh liking look zhouguanyu24 miamigp f1 poetry motion imolagp f1 williams team bos jost capito working hard provide nicholas latifi boost need f1 brilliant start valtteribottas 2022 season alfaromeoorlen f1\"]\n"
     ]
    }
   ],
   "source": [
    "removed_stop_words=[]\n",
    "from nltk.stem import WordNetLemmatizer\n",
    "lmtzr = WordNetLemmatizer()\n",
    "text_tokens = word_tokenize(final_string)\n",
    "tokens_without_sw = [word for word in text_tokens if not word in stopwords.words()]\n",
    "preprocessed_text = ' '.join([lmtzr.lemmatize(word) for word in tokens_without_sw])\n",
    "removed_stop_words.append(preprocessed_text)\n",
    "print(removed_stop_words)"
   ]
  },
  {
   "cell_type": "code",
   "execution_count": 30,
   "metadata": {},
   "outputs": [],
   "source": [
    "stopset = set(nltk.corpus.stopwords.words('english'))"
   ]
  },
  {
   "cell_type": "code",
   "execution_count": 41,
   "metadata": {},
   "outputs": [],
   "source": [
    "extra_stop_words=['f1','rt','22']"
   ]
  },
  {
   "cell_type": "code",
   "execution_count": 42,
   "metadata": {},
   "outputs": [],
   "source": [
    "new_stopwords_list = stopset.union(extra_stop_words)"
   ]
  },
  {
   "cell_type": "code",
   "execution_count": 31,
   "metadata": {},
   "outputs": [
    {
     "data": {
      "text/plain": [
       "'the grid has certainly enjoyed miami so far take a look at what they have been getting up to miamigp f1 i know you struggle with maths landonorris and georgerussell63 enjoyed some backstage banter before the miam your first glimpse of some action around miami the safety car hits the track for its first outing miamigp rt yukitsunoda07 checking out the allnew miami track miamigp f1 george is loving the miami vibe we sent our cameras backstage at the miami opening party to chat with the driver training with intermiamicf ballin with the marlins courtside at miamiheat no matter the sport the miami vi here is to another two years formula 1 drive to survive is renewed for season 5 and 6 f1 netflix who will be in the mix for victory get ready for a special weekend in miami with our form guide miamigp f1 rt landonorris slam dunk touchdown or threepointer we asked our drivers which american sport they would love to see upclose and personal rt zhouguanyu24 whasssup miami welcome to miami here is your guide to the weekends action in the sunshine state miamigp f1 f1miami are you ready to rock miami international autodrome jump aboard with f1 22 cover star and f1 ambassador the energy the noise the excitement thank you for a welcome like no other f1miami miamigp f1 miami we you thank you for an incredible welcome x f1miami miamigp f1 hey mum i am on tv do not change danielricciardo miamigp f1 a night to remember in miami now let us get this weekend started miamigp f1 f1miami the miami hype is real big smiles big energy and a buzzing atmosphere we are pumped miamigp f1 f1miami team mclarenf1 are pumped to be in miami keep an eye out for danielricciardos special themed helmet too rt oconesteban i see you miami lots of love for our american owned haasf1team at home and guenther of course miamigp f1 miami that was truly something special miamigp f1 f1miami we are hyped miamigp f1 f1miami when one legend meets another tombrady lewishamilton 14 titles in this picture let that sink in join us live for the miami grand prix opening party witness our drivers descend on hardrockstadium to kick off rt lewishamilton 14 world titles in a single tweet tombrady iwcmiami rt tombrady some guy with 7 world titles and tom brady lewishamilton oh miami you are a beauty miamigp f1 f1miami miami is ready for its f1 debut miamigp f1 tom brady or lebron james east coast or west coast its the would you rather usa themed edition rt redbullracing let \\'them hit it throwing the first pitch at the miami marlins pierre gasly michael jordan rubbing shoulders with nba legend jumpman23 x pierregasly miamigp f1 mercedes believe they have found solutions ahead of miami this weekend miamigp f1 f1 drivers love american food miamigp f1 catch kygomusic performing live at the heineken opening party at hardrockstadium 2035 edt on wednesday 4th ma get the lowdown on the allnew miami international autodrome miamigp f1 the last american racer in f1 for now alexanderrossi is this weeks guest on the f1beyondthegrid podcast he is ready to win for sure superb 2021 mega start to 2022 zak brown says its a case of when not if for remembering f1s racing dentist six time grand prix winner tony brooks we are saddened to hear of the passing of tony brooks f1s last surviving race winner of the 1950s brooks was one an exciting new role for the wseries racer alicepowell alpinef1team f1 19 corners 3 straights 1 spectacular location all the key stats about the new miami international autodrome miamigp f1 red sox easy right miamigp f1 what a weekend we have in prospect the f1 nation team are joined by mclarenf1 boss zak brown as they look ah how much do the grid know about us sports teams the results may surprise you miamigp f1 meanwhile lewishamilton max33verstappen alooficial and sebastian vettel combine for the champions edition choose your characters f1 22 standard edition features charlesleclerc landonorris and georgerussell63 party in the city where the heat is on take a first look at f1miamis miami international autodrome in f1 22 p they are currently p5 in the team standings what is driving alfaromeoorlens strong start to 2022 there is rarely been such fevered anticipation for the arrival of a new race venue wbuxtonofficial explains why lewis drops in for a quick pit stop at gma miamigp f1 full speed ahead miamigp redbullracing drivin drivin our way to miami landonorris jimmybutler mclarenf1 miamiheat miamigp f1 bringing that f1 heat to miami you ready f1miami miamigp f1 the starspangled honey badger miamigp f1 danielricciardo circuit means fresh challenges here is what to look out for ahead of the first miamigp f1 f1 drivers usa were coming for you f1miami miamigp f1 rt alpinef1team bring on those miami vibes were looking forward to seeing what the new circuit has in store for us hit that save bu rt alphataurif1 miami guys its miamigp week rt astonmartinf1 welcome to miami everywhere we go we celebrate people shared passions and values making our mark on our team our f rt mercedesamgf1 hitting up miami for race week rt redbullracing welcome to race week miamigp rt scuderiaferrari shades on and neon lights ready it is race week in miami how excited are you tifosi essereferrari miamig rt williamsracing were heading to miami welcome to race week welcome to miami miamigp f1 \"i am just myself the pressure is off i just have a good time\" he achieved his dream of becoming world champion a rt mclarenf1 only one spot where danielricciardo could place his trophy after his first mclaren win sennasempre a unique talent idolised by millions forever remembered sennasempre their first of two home races of 2022 did not quite go their way but scuderiaferrari have still started the sea remembering roland ratzenberger 19601994 mike krack is keen to hold onto vettel for 2022 and beyond f1 next stop miami get pumped up for the miamigp with our official f1tracks playlist at the cryptocom carlos sainz is hustling to get back on top with his 2022 ferrari f1 i could not be happier with the driver lineup toto wolff expresses his admiration for both lewis hamilton and g oooh were liking the look of this zhouguanyu24 miamigp f1 this is poetry in motion imolagp f1 williams team boss jost capito is working hard to provide nicholas latifi with the boost he needs f1 its been a brilliant start to valtteribottas 2022 season with alfaromeoorlen f1'"
      ]
     },
     "execution_count": 31,
     "metadata": {},
     "output_type": "execute_result"
    }
   ],
   "source": [
    "final_string"
   ]
  },
  {
   "cell_type": "code",
   "execution_count": 43,
   "metadata": {},
   "outputs": [
    {
     "name": "stdout",
     "output_type": "stream",
     "text": [
      "[\"grid certainly enjoyed miami far look getting miamigp f1 know struggle math landonorris georgerussell63 enjoyed backstage banter miam first glimpse action around miami safety car hit track first outing miamigp rt yukitsunoda07 checking allnew miami track miamigp f1 george loving miami vibe sent camera backstage miami opening party chat driver training intermiamicf ballin marlin courtside miamiheat matter sport miami another two year formula 1 drive survive renewed season 5 6 f1 netflix mix victory get ready special weekend miami form guide miamigp f1 rt landonorris slam dunk touchdown threepointer asked driver american sport would love see upclose personal rt zhouguanyu24 whasssup miami welcome miami guide weekend action sunshine state miamigp f1 f1miami ready rock miami international autodrome jump aboard f1 22 cover star f1 ambassador energy noise excitement thank welcome like f1miami miamigp f1 miami thank incredible welcome x f1miami miamigp f1 hey mum tv change danielricciardo miamigp f1 night remember miami let u get weekend started miamigp f1 f1miami miami hype real big smile big energy buzzing atmosphere pumped miamigp f1 f1miami team mclarenf1 pumped miami keep eye danielricciardos special themed helmet rt oconesteban see miami lot love american owned haasf1team home guenther course miamigp f1 miami truly something special miamigp f1 f1miami hyped miamigp f1 f1miami legend meet another tombrady lewishamilton 14 title picture let sink join u live miami grand prix opening party witness driver descend hardrockstadium kick rt lewishamilton 14 world title single tweet tombrady iwcmiami rt tombrady guy 7 world title tom brady lewishamilton oh miami beauty miamigp f1 f1miami miami ready f1 debut miamigp f1 tom brady lebron james east coast west coast would rather usa themed edition rt redbullracing let 'them hit throwing first pitch miami marlin pierre gasly michael jordan rubbing shoulder nba legend jumpman23 x pierregasly miamigp f1 mercedes believe found solution ahead miami weekend miamigp f1 f1 driver love american food miamigp f1 catch kygomusic performing live heineken opening party hardrockstadium 2035 edt wednesday 4th get lowdown allnew miami international autodrome miamigp f1 last american racer f1 alexanderrossi week guest f1beyondthegrid podcast ready win sure superb 2021 mega start 2022 zak brown say case remembering f1s racing dentist six time grand prix winner tony brook saddened hear passing tony brook f1s last surviving race winner 1950s brook exciting new role wseries racer alicepowell alpinef1team f1 19 corner 3 straight 1 spectacular location key stats new miami international autodrome miamigp f1 red sox easy right miamigp f1 weekend prospect f1 nation team joined mclarenf1 bos zak brown look ah much grid know u sport team result may surprise miamigp f1 meanwhile lewishamilton max33verstappen alooficial sebastian vettel combine champion edition choose character f1 22 standard edition feature charlesleclerc landonorris georgerussell63 party city heat first look f1miamis miami international autodrome f1 22 p currently p5 team standing driving alfaromeoorlens strong start 2022 rarely fevered anticipation arrival new race venue wbuxtonofficial explains lewis drop quick pit stop gma miamigp f1 full speed ahead miamigp redbullracing drivin drivin way miami landonorris jimmybutler mclarenf1 miamiheat miamigp f1 bringing f1 heat miami ready f1miami miamigp f1 starspangled honey badger miamigp f1 danielricciardo circuit mean fresh challenge look ahead first miamigp f1 f1 driver usa coming f1miami miamigp f1 rt alpinef1team bring miami vibe looking forward seeing new circuit store u hit save rt alphataurif1 miami guy miamigp week rt astonmartinf1 welcome miami everywhere go celebrate people shared passion value making mark team f rt mercedesamgf1 hitting miami race week rt redbullracing welcome race week miamigp rt scuderiaferrari shade neon light ready race week miami excited tifosi essereferrari miamig rt williamsracing heading miami welcome race week welcome miami miamigp f1 `` pressure good time '' achieved dream becoming world champion rt mclarenf1 spot danielricciardo could place trophy first mclaren win sennasempre unique talent idolised million forever remembered sennasempre first two home race 2022 quite go way scuderiaferrari still started remembering roland ratzenberger 19601994 mike krack keen hold onto vettel 2022 beyond f1 next stop miami get pumped miamigp official f1tracks playlist cryptocom carlos sainz hustling get back top 2022 ferrari f1 could happier driver lineup toto wolff express admiration lewis hamilton g oooh liking look zhouguanyu24 miamigp f1 poetry motion imolagp f1 williams team bos jost capito working hard provide nicholas latifi boost need f1 brilliant start valtteribottas 2022 season alfaromeoorlen f1\", \"grid certainly enjoyed miami far look getting miamigp f1 know struggle math landonorris georgerussell63 enjoyed backstage banter miam first glimpse action around miami safety car hit track first outing miamigp rt yukitsunoda07 checking allnew miami track miamigp f1 george loving miami vibe sent camera backstage miami opening party chat driver training intermiamicf ballin marlin courtside miamiheat matter sport miami another two year formula 1 drive survive renewed season 5 6 f1 netflix mix victory get ready special weekend miami form guide miamigp f1 rt landonorris slam dunk touchdown threepointer asked driver american sport would love see upclose personal rt zhouguanyu24 whasssup miami welcome miami guide weekend action sunshine state miamigp f1 f1miami ready rock miami international autodrome jump aboard f1 22 cover star f1 ambassador energy noise excitement thank welcome like f1miami miamigp f1 miami thank incredible welcome x f1miami miamigp f1 hey mum tv change danielricciardo miamigp f1 night remember miami let u get weekend started miamigp f1 f1miami miami hype real big smile big energy buzzing atmosphere pumped miamigp f1 f1miami team mclarenf1 pumped miami keep eye danielricciardos special themed helmet rt oconesteban see miami lot love american owned haasf1team home guenther course miamigp f1 miami truly something special miamigp f1 f1miami hyped miamigp f1 f1miami legend meet another tombrady lewishamilton 14 title picture let sink join u live miami grand prix opening party witness driver descend hardrockstadium kick rt lewishamilton 14 world title single tweet tombrady iwcmiami rt tombrady guy 7 world title tom brady lewishamilton oh miami beauty miamigp f1 f1miami miami ready f1 debut miamigp f1 tom brady lebron james east coast west coast would rather usa themed edition rt redbullracing let 'them hit throwing first pitch miami marlin pierre gasly michael jordan rubbing shoulder nba legend jumpman23 x pierregasly miamigp f1 mercedes believe found solution ahead miami weekend miamigp f1 f1 driver love american food miamigp f1 catch kygomusic performing live heineken opening party hardrockstadium 2035 edt wednesday 4th get lowdown allnew miami international autodrome miamigp f1 last american racer f1 alexanderrossi week guest f1beyondthegrid podcast ready win sure superb 2021 mega start 2022 zak brown say case remembering f1s racing dentist six time grand prix winner tony brook saddened hear passing tony brook f1s last surviving race winner 1950s brook exciting new role wseries racer alicepowell alpinef1team f1 19 corner 3 straight 1 spectacular location key stats new miami international autodrome miamigp f1 red sox easy right miamigp f1 weekend prospect f1 nation team joined mclarenf1 bos zak brown look ah much grid know u sport team result may surprise miamigp f1 meanwhile lewishamilton max33verstappen alooficial sebastian vettel combine champion edition choose character f1 22 standard edition feature charlesleclerc landonorris georgerussell63 party city heat first look f1miamis miami international autodrome f1 22 p currently p5 team standing driving alfaromeoorlens strong start 2022 rarely fevered anticipation arrival new race venue wbuxtonofficial explains lewis drop quick pit stop gma miamigp f1 full speed ahead miamigp redbullracing drivin drivin way miami landonorris jimmybutler mclarenf1 miamiheat miamigp f1 bringing f1 heat miami ready f1miami miamigp f1 starspangled honey badger miamigp f1 danielricciardo circuit mean fresh challenge look ahead first miamigp f1 f1 driver usa coming f1miami miamigp f1 rt alpinef1team bring miami vibe looking forward seeing new circuit store u hit save rt alphataurif1 miami guy miamigp week rt astonmartinf1 welcome miami everywhere go celebrate people shared passion value making mark team f rt mercedesamgf1 hitting miami race week rt redbullracing welcome race week miamigp rt scuderiaferrari shade neon light ready race week miami excited tifosi essereferrari miamig rt williamsracing heading miami welcome race week welcome miami miamigp f1 `` pressure good time '' achieved dream becoming world champion rt mclarenf1 spot danielricciardo could place trophy first mclaren win sennasempre unique talent idolised million forever remembered sennasempre first two home race 2022 quite go way scuderiaferrari still started remembering roland ratzenberger 19601994 mike krack keen hold onto vettel 2022 beyond f1 next stop miami get pumped miamigp official f1tracks playlist cryptocom carlos sainz hustling get back top 2022 ferrari f1 could happier driver lineup toto wolff express admiration lewis hamilton g oooh liking look zhouguanyu24 miamigp f1 poetry motion imolagp f1 williams team bos jost capito working hard provide nicholas latifi boost need f1 brilliant start valtteribottas 2022 season alfaromeoorlen f1\", \"grid certainly enjoyed miami far look getting miamigp know struggle math landonorris georgerussell63 enjoyed backstage banter miam first glimpse action around miami safety car hit track first outing miamigp yukitsunoda07 checking allnew miami track miamigp george loving miami vibe sent camera backstage miami opening party chat driver training intermiamicf ballin marlin courtside miamiheat matter sport miami another two year formula 1 drive survive renewed season 5 6 netflix mix victory get ready special weekend miami form guide miamigp landonorris slam dunk touchdown threepointer asked driver american sport would love see upclose personal zhouguanyu24 whasssup miami welcome miami guide weekend action sunshine state miamigp f1miami ready rock miami international autodrome jump aboard cover star ambassador energy noise excitement thank welcome like f1miami miamigp miami thank incredible welcome x f1miami miamigp hey mum tv change danielricciardo miamigp night remember miami let u get weekend started miamigp f1miami miami hype real big smile big energy buzzing atmosphere pumped miamigp f1miami team mclarenf1 pumped miami keep eye danielricciardos special themed helmet oconesteban see miami lot love american owned haasf1team home guenther course miamigp miami truly something special miamigp f1miami hyped miamigp f1miami legend meet another tombrady lewishamilton 14 title picture let sink join u live miami grand prix opening party witness driver descend hardrockstadium kick lewishamilton 14 world title single tweet tombrady iwcmiami tombrady guy 7 world title tom brady lewishamilton oh miami beauty miamigp f1miami miami ready debut miamigp tom brady lebron james east coast west coast would rather usa themed edition redbullracing let 'them hit throwing first pitch miami marlin pierre gasly michael jordan rubbing shoulder nba legend jumpman23 x pierregasly miamigp mercedes believe found solution ahead miami weekend miamigp driver love american food miamigp catch kygomusic performing live heineken opening party hardrockstadium 2035 edt wednesday 4th get lowdown allnew miami international autodrome miamigp last american racer alexanderrossi week guest f1beyondthegrid podcast ready win sure superb 2021 mega start 2022 zak brown say case remembering f1s racing dentist six time grand prix winner tony brook saddened hear passing tony brook f1s last surviving race winner 1950s brook exciting new role wseries racer alicepowell alpinef1team 19 corner 3 straight 1 spectacular location key stats new miami international autodrome miamigp red sox easy right miamigp weekend prospect nation team joined mclarenf1 bos zak brown look ah much grid know u sport team result may surprise miamigp meanwhile lewishamilton max33verstappen alooficial sebastian vettel combine champion edition choose character standard edition feature charlesleclerc landonorris georgerussell63 party city heat first look f1miamis miami international autodrome p currently p5 team standing driving alfaromeoorlens strong start 2022 rarely fevered anticipation arrival new race venue wbuxtonofficial explains lewis drop quick pit stop gma miamigp full speed ahead miamigp redbullracing drivin drivin way miami landonorris jimmybutler mclarenf1 miamiheat miamigp bringing heat miami ready f1miami miamigp starspangled honey badger miamigp danielricciardo circuit mean fresh challenge look ahead first miamigp driver usa coming f1miami miamigp alpinef1team bring miami vibe looking forward seeing new circuit store u hit save alphataurif1 miami guy miamigp week astonmartinf1 welcome miami everywhere go celebrate people shared passion value making mark team f mercedesamgf1 hitting miami race week redbullracing welcome race week miamigp scuderiaferrari shade neon light ready race week miami excited tifosi essereferrari miamig williamsracing heading miami welcome race week welcome miami miamigp `` pressure good time `` achieved dream becoming world champion mclarenf1 spot danielricciardo could place trophy first mclaren win sennasempre unique talent idolised million forever remembered sennasempre first two home race 2022 quite go way scuderiaferrari still started remembering roland ratzenberger 19601994 mike krack keen hold onto vettel 2022 beyond next stop miami get pumped miamigp official f1tracks playlist cryptocom carlos sainz hustling get back top 2022 ferrari could happier driver lineup toto wolff express admiration lewis hamilton g oooh liking look zhouguanyu24 miamigp poetry motion imolagp williams team bos jost capito working hard provide nicholas latifi boost need brilliant start valtteribottas 2022 season alfaromeoorlen , grid certainly enjoyed miami far look getting miamigp know struggle math landonorris georgerussell63 enjoyed backstage banter miam first glimpse action around miami safety car hit track first outing miamigp yukitsunoda07 checking allnew miami track miamigp george loving miami vibe sent camera backstage miami opening party chat driver training intermiamicf ballin marlin courtside miamiheat matter sport miami another two year formula 1 drive survive renewed season 5 6 netflix mix victory get ready special weekend miami form guide miamigp landonorris slam dunk touchdown threepointer asked driver american sport would love see upclose personal zhouguanyu24 whasssup miami welcome miami guide weekend action sunshine state miamigp f1miami ready rock miami international autodrome jump aboard cover star ambassador energy noise excitement thank welcome like f1miami miamigp miami thank incredible welcome x f1miami miamigp hey mum tv change danielricciardo miamigp night remember miami let u get weekend started miamigp f1miami miami hype real big smile big energy buzzing atmosphere pumped miamigp f1miami team mclarenf1 pumped miami keep eye danielricciardos special themed helmet oconesteban see miami lot love american owned haasf1team home guenther course miamigp miami truly something special miamigp f1miami hyped miamigp f1miami legend meet another tombrady lewishamilton 14 title picture let sink join u live miami grand prix opening party witness driver descend hardrockstadium kick lewishamilton 14 world title single tweet tombrady iwcmiami tombrady guy 7 world title tom brady lewishamilton oh miami beauty miamigp f1miami miami ready debut miamigp tom brady lebron james east coast west coast would rather usa themed edition redbullracing let 'them hit throwing first pitch miami marlin pierre gasly michael jordan rubbing shoulder nba legend jumpman23 x pierregasly miamigp mercedes believe found solution ahead miami weekend miamigp driver love american food miamigp catch kygomusic performing live heineken opening party hardrockstadium 2035 edt wednesday 4th get lowdown allnew miami international autodrome miamigp last american racer alexanderrossi week guest f1beyondthegrid podcast ready win sure superb 2021 mega start 2022 zak brown say case remembering f1s racing dentist six time grand prix winner tony brook saddened hear passing tony brook f1s last surviving race winner 1950s brook exciting new role wseries racer alicepowell alpinef1team 19 corner 3 straight 1 spectacular location key stats new miami international autodrome miamigp red sox easy right miamigp weekend prospect nation team joined mclarenf1 bos zak brown look ah much grid know u sport team result may surprise miamigp meanwhile lewishamilton max33verstappen alooficial sebastian vettel combine champion edition choose character standard edition feature charlesleclerc landonorris georgerussell63 party city heat first look f1miamis miami international autodrome p currently p5 team standing driving alfaromeoorlens strong start 2022 rarely fevered anticipation arrival new race venue wbuxtonofficial explains lewis drop quick pit stop gma miamigp full speed ahead miamigp redbullracing drivin drivin way miami landonorris jimmybutler mclarenf1 miamiheat miamigp bringing heat miami ready f1miami miamigp starspangled honey badger miamigp danielricciardo circuit mean fresh challenge look ahead first miamigp driver usa coming f1miami miamigp alpinef1team bring miami vibe looking forward seeing new circuit store u hit save alphataurif1 miami guy miamigp week astonmartinf1 welcome miami everywhere go celebrate people shared passion value making mark team f mercedesamgf1 hitting miami race week redbullracing welcome race week miamigp scuderiaferrari shade neon light ready race week miami excited tifosi essereferrari miamig williamsracing heading miami welcome race week welcome miami miamigp `` pressure good time `` achieved dream becoming world champion mclarenf1 spot danielricciardo could place trophy first mclaren win sennasempre unique talent idolised million forever remembered sennasempre first two home race 2022 quite go way scuderiaferrari still started remembering roland ratzenberger 19601994 mike krack keen hold onto vettel 2022 beyond next stop miami get pumped miamigp official f1tracks playlist cryptocom carlos sainz hustling get back top 2022 ferrari could happier driver lineup toto wolff express admiration lewis hamilton g oooh liking look zhouguanyu24 miamigp poetry motion imolagp williams team bos jost capito working hard provide nicholas latifi boost need brilliant start valtteribottas 2022 season alfaromeoorlen\"]\n"
     ]
    }
   ],
   "source": [
    "from nltk.stem import WordNetLemmatizer\n",
    "lmtzr = WordNetLemmatizer()\n",
    "text_tokens = word_tokenize(final_string)\n",
    "#tokens_without_sw = [word for word in text_tokens if not word in stopwords.words()]\n",
    "tokens_without_sw = [word for word in text_tokens if not word in new_stopwords_list]\n",
    "preprocessed_text = ' '.join([lmtzr.lemmatize(word) for word in tokens_without_sw])\n",
    "removed_stop_words.append(preprocessed_text)\n",
    "print(removed_stop_words)"
   ]
  },
  {
   "cell_type": "code",
   "execution_count": 44,
   "metadata": {},
   "outputs": [],
   "source": [
    "final_string=','.join(removed_stop_words)"
   ]
  },
  {
   "cell_type": "code",
   "execution_count": 45,
   "metadata": {},
   "outputs": [
    {
     "data": {
      "text/plain": [
       "[(('miamigp', 'f1'), 58),\n",
       " (('miami', 'international'), 16),\n",
       " (('international', 'autodrome'), 16),\n",
       " (('f1miami', 'miamigp'), 16),\n",
       " (('race', 'week'), 16),\n",
       " (('opening', 'party'), 12),\n",
       " (('welcome', 'miami'), 12),\n",
       " (('f1', 'f1miami'), 12),\n",
       " (('miamigp', 'f1miami'), 12),\n",
       " (('landonorris', 'georgerussell63'), 8),\n",
       " (('allnew', 'miami'), 8),\n",
       " (('miami', 'vibe'), 8),\n",
       " (('miami', 'welcome'), 8),\n",
       " (('f1miami', 'miami'), 8),\n",
       " (('pumped', 'miamigp'), 8),\n",
       " (('love', 'american'), 8),\n",
       " (('lewishamilton', '14'), 8),\n",
       " (('grand', 'prix'), 8),\n",
       " (('world', 'title'), 8),\n",
       " (('tom', 'brady'), 8)]"
      ]
     },
     "execution_count": 45,
     "metadata": {},
     "output_type": "execute_result"
    }
   ],
   "source": [
    "tokenized = final_string.split()\n",
    "esBigrams = ngrams(tokenized, 2)\n",
    "esBigramFreq = collections.Counter(esBigrams)\n",
    "esBigramFreq.most_common(20)"
   ]
  },
  {
   "cell_type": "code",
   "execution_count": 46,
   "metadata": {},
   "outputs": [
    {
     "data": {
      "text/plain": [
       "[(('miami', 'international', 'autodrome'), 16),\n",
       " (('miamigp', 'f1', 'f1miami'), 12),\n",
       " (('f1miami', 'miamigp', 'f1'), 8),\n",
       " (('international', 'autodrome', 'miamigp'), 8),\n",
       " (('welcome', 'race', 'week'), 8),\n",
       " (('certainly', 'enjoyed', 'miami'), 4),\n",
       " (('enjoyed', 'miami', 'far'), 4),\n",
       " (('miami', 'far', 'look'), 4),\n",
       " (('far', 'look', 'getting'), 4),\n",
       " (('look', 'getting', 'miamigp'), 4)]"
      ]
     },
     "execution_count": 46,
     "metadata": {},
     "output_type": "execute_result"
    }
   ],
   "source": [
    "esBigrams = ngrams(tokenized, 3)\n",
    "esBigramFreq = collections.Counter(esBigrams)\n",
    "esBigramFreq.most_common(10)"
   ]
  },
  {
   "cell_type": "markdown",
   "metadata": {},
   "source": [
    "## YAKE"
   ]
  },
  {
   "cell_type": "code",
   "execution_count": 37,
   "metadata": {},
   "outputs": [
    {
     "name": "stdout",
     "output_type": "stream",
     "text": [
      "Collecting git+https://github.com/LIAAD/yake\n",
      "  Cloning https://github.com/LIAAD/yake to c:\\users\\bhagy\\appdata\\local\\temp\\pip-req-build-hqvewlvb\n",
      "  Resolved https://github.com/LIAAD/yake to commit 238ae58c5ba39326a96862ee0e9cb817e5958440\n",
      "  Preparing metadata (setup.py): started\n",
      "  Preparing metadata (setup.py): finished with status 'done'\n",
      "Requirement already satisfied: tabulate in c:\\users\\bhagy\\anaconda3\\lib\\site-packages (from yake==0.4.8) (0.8.9)\n",
      "Requirement already satisfied: click>=6.0 in c:\\users\\bhagy\\anaconda3\\lib\\site-packages (from yake==0.4.8) (7.1.2)\n",
      "Requirement already satisfied: numpy in c:\\users\\bhagy\\anaconda3\\lib\\site-packages (from yake==0.4.8) (1.18.5)\n",
      "Requirement already satisfied: segtok in c:\\users\\bhagy\\anaconda3\\lib\\site-packages (from yake==0.4.8) (1.5.11)\n",
      "Requirement already satisfied: networkx in c:\\users\\bhagy\\anaconda3\\lib\\site-packages (from yake==0.4.8) (2.4)\n",
      "Requirement already satisfied: jellyfish in c:\\users\\bhagy\\anaconda3\\lib\\site-packages (from yake==0.4.8) (0.9.0)\n",
      "Requirement already satisfied: decorator>=4.3.0 in c:\\users\\bhagy\\anaconda3\\lib\\site-packages (from networkx->yake==0.4.8) (4.4.2)\n",
      "Requirement already satisfied: regex in c:\\users\\bhagy\\anaconda3\\lib\\site-packages (from segtok->yake==0.4.8) (2020.6.8)\n",
      "Note: you may need to restart the kernel to use updated packages.\n"
     ]
    },
    {
     "name": "stderr",
     "output_type": "stream",
     "text": [
      "  Running command git clone --filter=blob:none --quiet https://github.com/LIAAD/yake 'C:\\Users\\bhagy\\AppData\\Local\\Temp\\pip-req-build-hqvewlvb'\n"
     ]
    }
   ],
   "source": [
    "pip install git+https://github.com/LIAAD/yake"
   ]
  },
  {
   "cell_type": "code",
   "execution_count": 38,
   "metadata": {},
   "outputs": [],
   "source": [
    "import yake\n",
    "import pandas as pd\n",
    "import re\n",
    "from cleantext import clean"
   ]
  },
  {
   "cell_type": "code",
   "execution_count": null,
   "metadata": {},
   "outputs": [],
   "source": []
  },
  {
   "cell_type": "code",
   "execution_count": 47,
   "metadata": {},
   "outputs": [],
   "source": [
    "import yake\n",
    "kw_extractor = yake.KeywordExtractor()\n",
    "keywords = kw_extractor.extract_keywords(final_string)\n",
    "keywords_sort=sorted(keywords,key=lambda x: x[1],reverse=True)"
   ]
  },
  {
   "cell_type": "code",
   "execution_count": 48,
   "metadata": {},
   "outputs": [
    {
     "data": {
      "text/plain": [
       "list"
      ]
     },
     "execution_count": 48,
     "metadata": {},
     "output_type": "execute_result"
    }
   ],
   "source": [
    "type(keywords)"
   ]
  },
  {
   "cell_type": "code",
   "execution_count": 49,
   "metadata": {},
   "outputs": [
    {
     "data": {
      "text/plain": [
       "[('weekend miami form', 1.918069005199267e-05),\n",
       " ('rock miami international', 1.9041463353755026e-05),\n",
       " ('ready rock miami', 1.7616103086290157e-05),\n",
       " ('week miami excited', 1.7178175129675563e-05),\n",
       " ('miami guide weekend', 1.680032636008319e-05),\n",
       " ('allnew miami international', 1.6455066073140344e-05),\n",
       " ('heat miami ready', 1.5568800787288467e-05),\n",
       " ('hitting miami race', 1.5503071564071283e-05),\n",
       " ('miami opening party', 1.5215319721865618e-05),\n",
       " ('special weekend miami', 1.5042788106693515e-05),\n",
       " ('ahead miami weekend', 1.5042788106693515e-05),\n",
       " ('race week miamigp', 1.2098075781362608e-05),\n",
       " ('miami beauty miamigp', 1.0978548195297491e-05),\n",
       " ('miami track miamigp', 9.617825903233312e-06),\n",
       " ('miami guy miamigp', 9.617825903233312e-06),\n",
       " ('race week miami', 9.336007144760627e-06),\n",
       " ('miami race week', 9.336007144760625e-06),\n",
       " ('international autodrome miamigp', 8.397507409825322e-06),\n",
       " ('miami weekend miamigp', 7.283568016535361e-06),\n",
       " ('miami international autodrome', 3.2398732997944347e-06)]"
      ]
     },
     "execution_count": 49,
     "metadata": {},
     "output_type": "execute_result"
    }
   ],
   "source": [
    "keywords_sort"
   ]
  },
  {
   "cell_type": "code",
   "execution_count": null,
   "metadata": {},
   "outputs": [],
   "source": []
  }
 ],
 "metadata": {
  "kernelspec": {
   "display_name": "Python 3",
   "language": "python",
   "name": "python3"
  },
  "language_info": {
   "codemirror_mode": {
    "name": "ipython",
    "version": 3
   },
   "file_extension": ".py",
   "mimetype": "text/x-python",
   "name": "python",
   "nbconvert_exporter": "python",
   "pygments_lexer": "ipython3",
   "version": "3.8.3"
  }
 },
 "nbformat": 4,
 "nbformat_minor": 5
}
