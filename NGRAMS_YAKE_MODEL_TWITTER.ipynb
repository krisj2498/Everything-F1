{
 "cells": [
  {
   "cell_type": "code",
   "execution_count": 1,
   "metadata": {},
   "outputs": [
    {
     "name": "stdout",
     "output_type": "stream",
     "text": [
      "Collecting git+https://github.com/LIAAD/yake\n",
      "  Cloning https://github.com/LIAAD/yake to c:\\users\\bhagy\\appdata\\local\\temp\\pip-req-build-s3_6ehh3\n",
      "  Resolved https://github.com/LIAAD/yake to commit 238ae58c5ba39326a96862ee0e9cb817e5958440\n",
      "  Preparing metadata (setup.py): startedNote: you may need to restart the kernel to use updated packages.\n",
      "  Preparing metadata (setup.py): finished with status 'done'\n",
      "Collecting tabulate\n",
      "  Downloading tabulate-0.8.9-py3-none-any.whl (25 kB)\n",
      "Requirement already satisfied: click>=6.0 in c:\\users\\bhagy\\anaconda3\\lib\\site-packages (from yake==0.4.8) (7.1.2)\n",
      "Requirement already satisfied: numpy in c:\\users\\bhagy\\anaconda3\\lib\\site-packages (from yake==0.4.8) (1.18.5)\n",
      "Collecting segtok\n",
      "  Downloading segtok-1.5.11-py3-none-any.whl (24 kB)\n",
      "Requirement already satisfied: networkx in c:\\users\\bhagy\\anaconda3\\lib\\site-packages (from yake==0.4.8) (2.4)\n",
      "Collecting jellyfish\n",
      "  Downloading jellyfish-0.9.0-cp38-cp38-win_amd64.whl (26 kB)\n",
      "Requirement already satisfied: decorator>=4.3.0 in c:\\users\\bhagy\\anaconda3\\lib\\site-packages (from networkx->yake==0.4.8) (4.4.2)\n",
      "Requirement already satisfied: regex in c:\\users\\bhagy\\anaconda3\\lib\\site-packages (from segtok->yake==0.4.8) (2020.6.8)\n",
      "Building wheels for collected packages: yake\n",
      "  Building wheel for yake (setup.py): started\n",
      "  Building wheel for yake (setup.py): finished with status 'done'\n",
      "  Created wheel for yake: filename=yake-0.4.8-py2.py3-none-any.whl size=62820 sha256=9906c2065d8ac98cf167f3829800140b7f0c9b56351298159b6e23370e37f24c\n",
      "  Stored in directory: C:\\Users\\bhagy\\AppData\\Local\\Temp\\pip-ephem-wheel-cache-wxfg3bou\\wheels\\91\\6a\\18\\ab7d2fc1e58b6ed936dbe90881425aea909bae3f98dae32f66\n",
      "Successfully built yake\n",
      "Installing collected packages: tabulate, segtok, jellyfish, yake\n",
      "Successfully installed jellyfish-0.9.0 segtok-1.5.11 tabulate-0.8.9 yake-0.4.8\n",
      "\n"
     ]
    },
    {
     "name": "stderr",
     "output_type": "stream",
     "text": [
      "  Running command git clone --filter=blob:none --quiet https://github.com/LIAAD/yake 'C:\\Users\\bhagy\\AppData\\Local\\Temp\\pip-req-build-s3_6ehh3'\n"
     ]
    }
   ],
   "source": [
    "pip install git+https://github.com/LIAAD/yake"
   ]
  },
  {
   "cell_type": "code",
   "execution_count": 10,
   "metadata": {},
   "outputs": [],
   "source": [
    "import yake\n",
    "import pandas as pd\n",
    "import re\n",
    "from cleantext import clean"
   ]
  },
  {
   "cell_type": "code",
   "execution_count": 11,
   "metadata": {},
   "outputs": [],
   "source": [
    "twitter_comments=pd.read_csv(\"F1.csv\")"
   ]
  },
  {
   "cell_type": "code",
   "execution_count": 12,
   "metadata": {},
   "outputs": [
    {
     "data": {
      "text/html": [
       "<div>\n",
       "<style scoped>\n",
       "    .dataframe tbody tr th:only-of-type {\n",
       "        vertical-align: middle;\n",
       "    }\n",
       "\n",
       "    .dataframe tbody tr th {\n",
       "        vertical-align: top;\n",
       "    }\n",
       "\n",
       "    .dataframe thead th {\n",
       "        text-align: right;\n",
       "    }\n",
       "</style>\n",
       "<table border=\"1\" class=\"dataframe\">\n",
       "  <thead>\n",
       "    <tr style=\"text-align: right;\">\n",
       "      <th></th>\n",
       "      <th>Unnamed: 0</th>\n",
       "      <th>Created at</th>\n",
       "      <th>Text</th>\n",
       "    </tr>\n",
       "  </thead>\n",
       "  <tbody>\n",
       "    <tr>\n",
       "      <th>0</th>\n",
       "      <td>0</td>\n",
       "      <td>2022-05-05 21:05:00</td>\n",
       "      <td>The grid has certainly enjoyed Miami so far! 🌴...</td>\n",
       "    </tr>\n",
       "    <tr>\n",
       "      <th>1</th>\n",
       "      <td>1</td>\n",
       "      <td>2022-05-05 20:45:00</td>\n",
       "      <td>\"I know you struggle with maths\" 😆\\n\\n@LandoNo...</td>\n",
       "    </tr>\n",
       "    <tr>\n",
       "      <th>2</th>\n",
       "      <td>2</td>\n",
       "      <td>2022-05-05 20:04:00</td>\n",
       "      <td>Your first glimpse of some action around Miami...</td>\n",
       "    </tr>\n",
       "    <tr>\n",
       "      <th>3</th>\n",
       "      <td>3</td>\n",
       "      <td>2022-05-05 19:58:24</td>\n",
       "      <td>RT @yukitsunoda07: https://t.co/qk1dNNQRjE</td>\n",
       "    </tr>\n",
       "    <tr>\n",
       "      <th>4</th>\n",
       "      <td>4</td>\n",
       "      <td>2022-05-05 19:30:00</td>\n",
       "      <td>Checking out the all-new Miami track! 🤩\\n\\n#Mi...</td>\n",
       "    </tr>\n",
       "    <tr>\n",
       "      <th>...</th>\n",
       "      <td>...</td>\n",
       "      <td>...</td>\n",
       "      <td>...</td>\n",
       "    </tr>\n",
       "    <tr>\n",
       "      <th>75</th>\n",
       "      <td>75</td>\n",
       "      <td>2022-04-29 14:37:00</td>\n",
       "      <td>\"I couldn’t be happier with the driver line-up...</td>\n",
       "    </tr>\n",
       "    <tr>\n",
       "      <th>76</th>\n",
       "      <td>76</td>\n",
       "      <td>2022-04-29 14:15:05</td>\n",
       "      <td>Oooh, we're liking the look of this @ZhouGuany...</td>\n",
       "    </tr>\n",
       "    <tr>\n",
       "      <th>77</th>\n",
       "      <td>77</td>\n",
       "      <td>2022-04-29 13:05:00</td>\n",
       "      <td>This, is poetry in motion 😍\\n\\n#ImolaGP #F1 ht...</td>\n",
       "    </tr>\n",
       "    <tr>\n",
       "      <th>78</th>\n",
       "      <td>78</td>\n",
       "      <td>2022-04-29 10:36:35</td>\n",
       "      <td>Williams team boss Jost Capito is working hard...</td>\n",
       "    </tr>\n",
       "    <tr>\n",
       "      <th>79</th>\n",
       "      <td>79</td>\n",
       "      <td>2022-04-29 09:27:06</td>\n",
       "      <td>It's been a brilliant start to @ValtteriBottas...</td>\n",
       "    </tr>\n",
       "  </tbody>\n",
       "</table>\n",
       "<p>80 rows × 3 columns</p>\n",
       "</div>"
      ],
      "text/plain": [
       "    Unnamed: 0           Created at  \\\n",
       "0            0  2022-05-05 21:05:00   \n",
       "1            1  2022-05-05 20:45:00   \n",
       "2            2  2022-05-05 20:04:00   \n",
       "3            3  2022-05-05 19:58:24   \n",
       "4            4  2022-05-05 19:30:00   \n",
       "..         ...                  ...   \n",
       "75          75  2022-04-29 14:37:00   \n",
       "76          76  2022-04-29 14:15:05   \n",
       "77          77  2022-04-29 13:05:00   \n",
       "78          78  2022-04-29 10:36:35   \n",
       "79          79  2022-04-29 09:27:06   \n",
       "\n",
       "                                                 Text  \n",
       "0   The grid has certainly enjoyed Miami so far! 🌴...  \n",
       "1   \"I know you struggle with maths\" 😆\\n\\n@LandoNo...  \n",
       "2   Your first glimpse of some action around Miami...  \n",
       "3          RT @yukitsunoda07: https://t.co/qk1dNNQRjE  \n",
       "4   Checking out the all-new Miami track! 🤩\\n\\n#Mi...  \n",
       "..                                                ...  \n",
       "75  \"I couldn’t be happier with the driver line-up...  \n",
       "76  Oooh, we're liking the look of this @ZhouGuany...  \n",
       "77  This, is poetry in motion 😍\\n\\n#ImolaGP #F1 ht...  \n",
       "78  Williams team boss Jost Capito is working hard...  \n",
       "79  It's been a brilliant start to @ValtteriBottas...  \n",
       "\n",
       "[80 rows x 3 columns]"
      ]
     },
     "execution_count": 12,
     "metadata": {},
     "output_type": "execute_result"
    }
   ],
   "source": [
    "twitter_comments"
   ]
  },
  {
   "cell_type": "code",
   "execution_count": null,
   "metadata": {},
   "outputs": [],
   "source": []
  },
  {
   "cell_type": "code",
   "execution_count": 13,
   "metadata": {},
   "outputs": [],
   "source": [
    "list_no_emojis=[]\n",
    "for text in twitter_comments[\"Text\"]:\n",
    "    no_emoji=clean(text, no_emoji=True)\n",
    "    list_no_emojis.append(no_emoji)"
   ]
  },
  {
   "cell_type": "code",
   "execution_count": 14,
   "metadata": {},
   "outputs": [],
   "source": [
    "remove_hyperlinks=[]\n",
    "for text in list_no_emojis:\n",
    "    x=re.sub('http://\\S+|https://\\S+', '', text)\n",
    "    remove_hyperlinks.append(x)"
   ]
  },
  {
   "cell_type": "code",
   "execution_count": 15,
   "metadata": {},
   "outputs": [],
   "source": [
    "twitter_comments[\"Text\"]=remove_hyperlinks"
   ]
  },
  {
   "cell_type": "code",
   "execution_count": 16,
   "metadata": {},
   "outputs": [
    {
     "name": "stderr",
     "output_type": "stream",
     "text": [
      "<ipython-input-16-d8d55ead74fc>:2: FutureWarning: The default value of regex will change from True to False in a future version.\n",
      "  reddit_comments['Text'] = reddit_comments['Text'].str.replace('\\]', '')\n"
     ]
    }
   ],
   "source": [
    "for row in twitter_comments[\"Text\"]:\n",
    "    reddit_comments['Text'] = reddit_comments['Text'].str.replace('\\]', '')"
   ]
  },
  {
   "cell_type": "code",
   "execution_count": 17,
   "metadata": {},
   "outputs": [
    {
     "name": "stderr",
     "output_type": "stream",
     "text": [
      "<ipython-input-17-fc88b2776eb3>:2: FutureWarning: The default value of regex will change from True to False in a future version.\n",
      "  twitter_comments[\"Text\"] = twitter_comments[\"Text\"].str.replace('\\[', '')\n"
     ]
    }
   ],
   "source": [
    "for row in twitter_comments[\"Text\"]:\n",
    "    twitter_comments[\"Text\"] = twitter_comments[\"Text\"].str.replace('\\[', '')"
   ]
  },
  {
   "cell_type": "code",
   "execution_count": 18,
   "metadata": {},
   "outputs": [],
   "source": [
    "import re\n",
    "list_temp=[]\n",
    "for mystring in twitter_comments[\"Text\"]:\n",
    "    clean_str=mystring.replace('[^a-zA-Z0-9]', ' ')\n",
    "    list_temp.append(clean_str)"
   ]
  },
  {
   "cell_type": "code",
   "execution_count": 19,
   "metadata": {},
   "outputs": [
    {
     "data": {
      "text/plain": [
       "['the grid has certainly enjoyed miami so far!\\ntake a look at what they have been getting up to\\n#miamigp #f1\\n',\n",
       " '\"i know you struggle with maths\"\\n@landonorris and @georgerussell63 enjoyed some backstage banter before the miam ',\n",
       " 'your first glimpse of some action around miami\\nthe safety car hits the track for its first outing!\\n#miamigp ',\n",
       " 'rt @yukitsunoda07: ',\n",
       " 'checking out the all-new miami track!\\n#miamigp #f1 ',\n",
       " 'george is loving the miami vibe\\nwe sent our cameras backstage at the miami opening party to chat with the driver ',\n",
       " \"training with @intermiamicf\\nballin' with the @marlins\\ncourtside at @miamiheat\\nno matter the sport, the miami vi \",\n",
       " \"here's to another two years\\nformula 1: drive to survive is renewed for season 5 and 6!\\n#f1 @netflix \",\n",
       " 'who will be in the mix for victory?\\nget ready for a special weekend in miami with our form guide\\n#miamigp #f1\\n',\n",
       " 'rt @landonorris: slam dunk ',\n",
       " \"touchdown or three-pointer?\\nwe asked our drivers which american sport they'd love to see up-close and personal \",\n",
       " 'rt @zhouguanyu24: whasssup miami! ',\n",
       " \"welcome to miami\\nhere's your guide to the weekend's action in the sunshine state!\\n#miamigp #f1 @f1miami \",\n",
       " 'are you ready to rock miami international autodrome?!\\njump aboard with f1 22 cover star and f1 ambassador ',\n",
       " 'the energy. the noise. the excitement!\\nthank you for a welcome like no other, @f1miami\\n#miamigp #f1 ',\n",
       " 'miami, we you!\\nthank you for an incredible welcome\\nx @f1miami\\n#miamigp #f1 ',\n",
       " '\"hey mum i\\'m on tv!\"\\ndon\\'t change, @danielricciardo\\n#miamigp #f1 ',\n",
       " \"a night to remember in miami\\nnow, let's get this weekend started!\\n#miamigp #f1 @f1miami \",\n",
       " 'the miami hype is real!\\nbig smiles, big energy and a buzzing atmosphere, we are pumped!\\n#miamigp #f1 @f1miami ',\n",
       " \"team @mclarenf1 are pumped to be in miami!\\nkeep an eye out for @danielricciardo's special themed helmet too \",\n",
       " 'rt @oconesteban: i see you miami ',\n",
       " 'lots of love for our american owned @haasf1team at home!\\nand guenther, of course\\n#miamigp #f1 ',\n",
       " 'miami, that was truly something special!\\n#miamigp #f1 @f1miami ',\n",
       " 'we. are. hyped!\\n#miamigp #f1 @f1miami\\n',\n",
       " 'when one legend, meets another\\n@tombrady @lewishamilton\\n14 titles in this picture, let that sink in ',\n",
       " 'join us live for the miami grand prix opening party\\nwitness our drivers descend on @hardrockstadium to kick off ',\n",
       " 'rt @lewishamilton: 14 world titles in a single tweet. @tombrady #iwcmiami ',\n",
       " 'rt @tombrady: some guy with 7 world titles, and tom brady @lewishamilton ',\n",
       " \"oh miami, you're a beauty\\n#miamigp #f1 @f1miami \",\n",
       " 'miami is ready for its f1 debut\\n#miamigp #f1 ',\n",
       " \"tom brady or lebron james?\\neast coast or west coast?\\nit's the 'would you rather' usa themed edition!\",\n",
       " \"rt @redbullracing: let 'em hit it! throwing the first pitch at the miami @marlins \",\n",
       " 'pierre gasly michael jordan\\nrubbing shoulders with @nba legend @jumpman23\\nx @pierregasly\\n#miamigp #f1 ',\n",
       " 'mercedes believe they have found solutions ahead of miami this weekend\\n#miamigp #f1\\n',\n",
       " 'f1 drivers love american food\\n#miamigp #f1 ',\n",
       " 'catch @kygomusic performing live at the @heineken opening party at @hardrockstadium 20:35 (edt) on wednesday 4th ma ',\n",
       " 'get the lowdown on the all-new miami international autodrome\\n#miamigp #f1\\n',\n",
       " \"the last american racer in f1... for now\\n@alexanderrossi is this week's guest on the #f1beyondthegrid podcast! \",\n",
       " '\"he\\'s ready to win for sure\"\\nsuperb 2021.\\nmega start to 2022.\\nzak brown says it\\'s a case of when, not if, for ',\n",
       " \"remembering f1's 'racing dentist' - six time grand prix winner tony brooks\\n\",\n",
       " '',\n",
       " \"we are saddened to hear of the passing of tony brooks\\nf1's last surviving race winner of the 1950s, brooks was one \",\n",
       " 'an exciting new role for the #wseries racer\\n@alicepowell @alpinef1team\\n#f1\\n',\n",
       " '19 corners, 3 straights, 1 spectacular location\\nall the key stats about the new miami international autodrome\\n#miamigp #f1',\n",
       " '_______ red sox\\neasy, right?!\\n#miamigp #f1 ',\n",
       " 'what a weekend we have in prospect!\\nthe f1 nation team are joined by @mclarenf1 boss, zak brown, as they look ah ',\n",
       " 'how much do the grid know about us sports teams?\\nthe results may surprise you!\\n#miamigp #f1',\n",
       " 'meanwhile, @lewishamilton, @max33verstappen, @alo_oficial and sebastian vettel combine for the champions edition ',\n",
       " 'choose your character(s)...\\nf1 22 standard edition features @charles_leclerc, @landonorris and @georgerussell63 ',\n",
       " \"party in the city where the heat is on\\ntake a first look at @f1miami's miami international autodrome in f1 22, p \",\n",
       " \"they're currently p5 in the team standings\\nwhat's driving @alfaromeoorlen's strong start to 2022? \",\n",
       " '\"there\\'s rarely been such fevered anticipation for the arrival of a new race venue\"\\n@wbuxtonofficial explains why ',\n",
       " 'lewis drops in for a quick pit stop at @gma\\n#miamigp #f1\\n',\n",
       " 'full speed ahead!\\n#miamigp @redbullracing ',\n",
       " \"drivin' drivin' our way to miami\\n@landonorris @jimmybutler\\n@mclarenf1 @miamiheat\\n#miamigp #f1 \",\n",
       " 'bringing that f1 heat to miami\\nyou ready, @f1miami?\\n#miamigp #f1 ',\n",
       " 'the star-spangled honey badger\\n#miamigp #f1 @danielricciardo',\n",
       " \"circuit means fresh challenges!\\nhere's what to look out for ahead of the first #miamigp\\n#f1\\n\",\n",
       " \"f1 drivers usa\\nwe're coming for you, @f1miami\\n#miamigp #f1 \",\n",
       " \"rt @alpinef1team: bring on those miami vibes we're looking forward to seeing what the new circuit has in store for us!\\nhit that save bu\",\n",
       " \"rt @alphataurif1: miami guys!\\nit's #miamigp week \",\n",
       " 'rt @astonmartinf1: welcome to miami.\\neverywhere we go we celebrate people, shared passions and values making our mark on our team, our f',\n",
       " 'rt @mercedesamgf1: hitting up miami for race week ',\n",
       " 'rt @redbullracing: welcome to race week #miamigp ',\n",
       " \"rt @scuderiaferrari: shades on and neon lights ready. it's race week in miami\\nhow excited are you, #tifosi!?\\n#essereferrari #miamig\",\n",
       " \"rt @williamsracing: we're heading to miami! \",\n",
       " 'welcome to race week\\nwelcome... to miami\\n#miamigp #f1 ',\n",
       " '\"i\\'m just myself. the pressure is off. i just have a good time\"\\nhe achieved his dream of becoming world champion a ',\n",
       " 'rt @mclarenf1: only one spot where @danielricciardo could place his trophy after his first mclaren win.\\n#sennasempre ',\n",
       " 'a unique talent, idolised by millions\\nforever remembered\\n#sennasempre ',\n",
       " \"their first of two home races of 2022 didn't quite go their way...\\nbut @scuderiaferrari have still started the sea \",\n",
       " 'remembering roland ratzenberger\\n1960-1994 ',\n",
       " 'mike krack is keen to hold onto vettel for 2022 and beyond\\n#f1\\n',\n",
       " 'next stop, miami!\\nget pumped up for the #miamigp with our official #f1tracks playlist at the @cryptocom ',\n",
       " \"carlos sainz is 'hustling' to get back on top with his 2022 ferrari\\n#f1\\n\",\n",
       " '\"i couldn\\'t be happier with the driver line-up\"\\ntoto wolff expresses his admiration for both lewis hamilton and g ',\n",
       " \"oooh, we're liking the look of this @zhouguanyu24!\\n#miamigp #f1 \",\n",
       " 'this, is poetry in motion\\n#imolagp #f1 ',\n",
       " 'williams team boss jost capito is working hard to provide nicholas latifi with the boost he needs\\n#f1\\n',\n",
       " \"it's been a brilliant start to @valtteribottas' 2022 season with @alfaromeoorlen\\n#f1 \"]"
      ]
     },
     "execution_count": 19,
     "metadata": {},
     "output_type": "execute_result"
    }
   ],
   "source": [
    "list_temp"
   ]
  },
  {
   "cell_type": "code",
   "execution_count": 20,
   "metadata": {},
   "outputs": [],
   "source": [
    "rez=[]\n",
    "for x in list_temp:\n",
    "    rez.append(x.replace(\"\\n\",\"\"))"
   ]
  },
  {
   "cell_type": "code",
   "execution_count": 21,
   "metadata": {},
   "outputs": [],
   "source": [
    "no_space=' '.join(rez)"
   ]
  },
  {
   "cell_type": "code",
   "execution_count": 22,
   "metadata": {},
   "outputs": [
    {
     "name": "stdout",
     "output_type": "stream",
     "text": [
      "('miamigp', 0.004951084653552576)\n",
      "('miami', 0.009495697607927747)\n",
      "('slam dunk touchdown', 0.01749797202685046)\n",
      "('miamithe safety car', 0.018087624924598016)\n",
      "('miami international autodrome', 0.020135610552651406)\n",
      "('all-new miami track', 0.029717523592609766)\n",
      "('miami international', 0.03272933545811219)\n",
      "('safety car hits', 0.04276644790578439)\n",
      "('backstage banter', 0.04285908854591295)\n",
      "('cameras backstage', 0.04285908854591295)\n",
      "('enjoyed miami', 0.046044962029640146)\n",
      "('miami track', 0.046044962029640146)\n",
      "('ready', 0.06074201328441223)\n",
      "('international autodrome', 0.06323610412717356)\n",
      "('struggle with maths', 0.06361065656364219)\n",
      "('george is loving', 0.06361065656364219)\n",
      "('miamiheatno matter', 0.06361065656364219)\n",
      "('drive to survive', 0.06361065656364219)\n",
      "('mix for victory', 0.06361065656364219)\n",
      "('slam dunk', 0.06361065656364219)\n"
     ]
    }
   ],
   "source": [
    "import yake\n",
    "kw_extractor = yake.KeywordExtractor()\n",
    "keywords = kw_extractor.extract_keywords(no_space)\n",
    "\n",
    "for kw in keywords:\n",
    "    print(kw)"
   ]
  },
  {
   "cell_type": "code",
   "execution_count": 23,
   "metadata": {},
   "outputs": [
    {
     "name": "stdout",
     "output_type": "stream",
     "text": [
      "(\"valtteribottas'\", 0.04491197687864554)\n",
      "('alfaromeoorlen', 0.04491197687864554)\n",
      "('brilliant start', 0.09700399286574239)\n",
      "('season', 0.15831692877998726)\n",
      "('brilliant', 0.29736558256021506)\n",
      "('start', 0.29736558256021506)\n"
     ]
    }
   ],
   "source": [
    "language = \"en\"\n",
    "max_ngram_size = 3\n",
    "deduplication_thresold = 0.9\n",
    "deduplication_algo = 'seqm'\n",
    "windowSize = 1\n",
    "numOfKeywords = 20\n",
    "\n",
    "custom_kw_extractor = yake.KeywordExtractor(lan=language, n=max_ngram_size, dedupLim=deduplication_thresold, dedupFunc=deduplication_algo, windowsSize=windowSize, top=numOfKeywords, features=None)\n",
    "keywords = custom_kw_extractor.extract_keywords(text)\n",
    "\n",
    "for kw in keywords:\n",
    "    print(kw)"
   ]
  },
  {
   "cell_type": "code",
   "execution_count": null,
   "metadata": {},
   "outputs": [],
   "source": []
  }
 ],
 "metadata": {
  "kernelspec": {
   "display_name": "Python 3",
   "language": "python",
   "name": "python3"
  },
  "language_info": {
   "codemirror_mode": {
    "name": "ipython",
    "version": 3
   },
   "file_extension": ".py",
   "mimetype": "text/x-python",
   "name": "python",
   "nbconvert_exporter": "python",
   "pygments_lexer": "ipython3",
   "version": "3.8.3"
  }
 },
 "nbformat": 4,
 "nbformat_minor": 4
}
